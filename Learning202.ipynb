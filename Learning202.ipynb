{
  "nbformat": 4,
  "nbformat_minor": 0,
  "metadata": {
    "colab": {
      "provenance": [],
      "include_colab_link": true
    },
    "kernelspec": {
      "name": "python3",
      "display_name": "Python 3"
    },
    "language_info": {
      "name": "python"
    }
  },
  "cells": [
    {
      "cell_type": "markdown",
      "metadata": {
        "id": "view-in-github",
        "colab_type": "text"
      },
      "source": [
        "<a href=\"https://colab.research.google.com/github/Shubhamprdd/python-learning/blob/main/Learning202.ipynb\" target=\"_parent\"><img src=\"https://colab.research.google.com/assets/colab-badge.svg\" alt=\"Open In Colab\"/></a>"
      ]
    },
    {
      "cell_type": "markdown",
      "source": [
        "# **Basic Form**"
      ],
      "metadata": {
        "id": "3-YjKSO537Ai"
      }
    },
    {
      "cell_type": "code",
      "execution_count": null,
      "metadata": {
        "colab": {
          "base_uri": "https://localhost:8080/"
        },
        "id": "fxF77lZJ1E7X",
        "outputId": "772d3818-faf0-457a-938c-a89e3dfba320"
      },
      "outputs": [
        {
          "output_type": "stream",
          "name": "stdout",
          "text": [
            "Enter your name: kelly\n",
            "Enter your age: 24\n",
            "Hello kelly. Your are 24 years old.\n"
          ]
        }
      ],
      "source": [
        "name= input(\"Enter your name: \")\n",
        "age = input(\"Enter your age: \")\n",
        "print(\"Hello\" + \" \" + name + \".\" + \" \" + \"Your are\"+ \" \" + age + \" \" + \"2years old.\")"
      ]
    },
    {
      "cell_type": "markdown",
      "source": [
        "# **Basic Calculator**"
      ],
      "metadata": {
        "id": "uLC0IHYS3zMd"
      }
    },
    {
      "cell_type": "code",
      "source": [
        "no1 = input(\"Enter a number: \")\n",
        "no2 = input(\"Enter another number: \")\n",
        "sum = int(no1) + int(no2)\n",
        "print(\"The sum of \",no1, \"amd\", no2, \"is:\", sum)"
      ],
      "metadata": {
        "colab": {
          "base_uri": "https://localhost:8080/"
        },
        "id": "W6FOlYan1dE8",
        "outputId": "40e82d52-9bb2-4068-b369-e64a98bdd301"
      },
      "execution_count": null,
      "outputs": [
        {
          "output_type": "stream",
          "name": "stdout",
          "text": [
            "Enter a number: 99\n",
            "Enter another number: 1\n",
            "The sum of  99 amd 1 is: 100\n"
          ]
        }
      ]
    },
    {
      "cell_type": "markdown",
      "source": [
        "# Basis **Function**"
      ],
      "metadata": {
        "id": "mr994Hyc4Amd"
      }
    },
    {
      "cell_type": "code",
      "source": [
        "def say_hi(name,age):\n",
        "  print(\"Hello\", name + \".\" + \" \" + \"You are\", age, \"years old.\")\n",
        "\n",
        "say_hi(\"Alice\",\"20\")"
      ],
      "metadata": {
        "colab": {
          "base_uri": "https://localhost:8080/"
        },
        "id": "kvUAJ7mb256r",
        "outputId": "c574ad4e-1f9d-40b9-c7b1-0f991ee58805"
      },
      "execution_count": null,
      "outputs": [
        {
          "output_type": "stream",
          "name": "stdout",
          "text": [
            "Hello Alice. You are 20 years old.\n"
          ]
        }
      ]
    },
    {
      "cell_type": "markdown",
      "source": [
        "**Return function**"
      ],
      "metadata": {
        "id": "DO24Z4Y05o_2"
      }
    },
    {
      "cell_type": "code",
      "source": [
        "def cube(num):\n",
        "  return num*num*num\n",
        "\n",
        "cube(2)"
      ],
      "metadata": {
        "colab": {
          "base_uri": "https://localhost:8080/"
        },
        "id": "yWd64fXe4LZY",
        "outputId": "d62fba48-d859-4449-b371-25e7f45095a8"
      },
      "execution_count": null,
      "outputs": [
        {
          "output_type": "execute_result",
          "data": {
            "text/plain": [
              "8"
            ]
          },
          "metadata": {},
          "execution_count": 22
        }
      ]
    },
    {
      "cell_type": "markdown",
      "source": [
        "# **IF**"
      ],
      "metadata": {
        "id": "eWrsOzujBceb"
      }
    },
    {
      "cell_type": "code",
      "source": [
        "def max_num(num1, num2,num3):\n",
        "  if num1>=num2 and num1>=num3:\n",
        "    return num1\n",
        "  elif num2>=num1 and num2>=num3:\n",
        "    return num2\n",
        "  else:\n",
        "    return num3\n",
        "\n",
        "max_num(44,55,66)"
      ],
      "metadata": {
        "id": "JU8oiv3k53y5",
        "colab": {
          "base_uri": "https://localhost:8080/"
        },
        "outputId": "8110471f-025f-4768-ac58-ce89c97478f2"
      },
      "execution_count": null,
      "outputs": [
        {
          "output_type": "execute_result",
          "data": {
            "text/plain": [
              "66"
            ]
          },
          "metadata": {},
          "execution_count": 2
        }
      ]
    },
    {
      "cell_type": "markdown",
      "source": [
        "# **Betteer Calculator**"
      ],
      "metadata": {
        "id": "j0PTsdpPC0NP"
      }
    },
    {
      "cell_type": "code",
      "source": [
        "no1 = float(input(\"Enter first number: \"))\n",
        "op = (input(\"Enter an operator: \"))\n",
        "no2 = float(input(\"Enter second number: \"))\n",
        "\n",
        "if op == \"+\":\n",
        "  print(no1 + no2)\n",
        "elif op == \"-\":\n",
        "  print(no1 - no2)\n",
        "elif op == \"*\":\n",
        "  print(no1 * no2)\n",
        "elif op == \"/\":\n",
        "  print(no1 / no2)\n",
        "else:\n",
        "  print(\"Invalid Operator\")"
      ],
      "metadata": {
        "colab": {
          "base_uri": "https://localhost:8080/"
        },
        "id": "R9r8l1kZC5nU",
        "outputId": "e2165aaa-74c7-416f-996a-365e40224e84"
      },
      "execution_count": null,
      "outputs": [
        {
          "name": "stdout",
          "output_type": "stream",
          "text": [
            "Enter first number: 99\n",
            "Enter an operator: /\n"
          ]
        }
      ]
    },
    {
      "cell_type": "markdown",
      "source": [
        "# **While Loop**"
      ],
      "metadata": {
        "id": "5y_by93lhM7V"
      }
    },
    {
      "cell_type": "code",
      "source": [
        "i = 1\n",
        "while i<=10:\n",
        "  print(i)\n",
        "  i += 1\n",
        "\n",
        "print(\"Done with Loop\")"
      ],
      "metadata": {
        "colab": {
          "base_uri": "https://localhost:8080/"
        },
        "id": "Mbx47M_XhMf6",
        "outputId": "6b11c92d-5620-42b8-f9d6-df5852496f30"
      },
      "execution_count": 3,
      "outputs": [
        {
          "output_type": "stream",
          "name": "stdout",
          "text": [
            "1\n",
            "2\n",
            "3\n",
            "4\n",
            "5\n",
            "6\n",
            "7\n",
            "8\n",
            "9\n",
            "10\n",
            "Done with Loop\n"
          ]
        }
      ]
    },
    {
      "cell_type": "markdown",
      "source": [
        "# **Guess The Secret Word Game**"
      ],
      "metadata": {
        "id": "SHtlvsyoiPzG"
      }
    },
    {
      "cell_type": "code",
      "source": [
        "secret_word = \"banana\"\n",
        "guess = \"\"\n",
        "\n",
        "while guess != secret_word:\n",
        "  guess = input(\"Enter your guess: \")\n",
        "\n",
        "print(\"You Win!\")\n"
      ],
      "metadata": {
        "colab": {
          "base_uri": "https://localhost:8080/"
        },
        "id": "M03lwI7uiVPD",
        "outputId": "c9f890da-1ab5-4e5d-a020-4bfe583f5156"
      },
      "execution_count": 5,
      "outputs": [
        {
          "output_type": "stream",
          "name": "stdout",
          "text": [
            "Enter your guess: banana\n",
            "You Win!\n"
          ]
        }
      ]
    },
    {
      "cell_type": "markdown",
      "source": [
        "Advance Guess Game"
      ],
      "metadata": {
        "id": "D2AHRiCkjzye"
      }
    },
    {
      "cell_type": "code",
      "source": [
        "secret_word = \"banana\"\n",
        "guess = \"\"\n",
        "guess_count = 0\n",
        "guess_limit = 3\n",
        "out_of_guess = False\n",
        "\n",
        "while guess != secret_word and not(out_of_guess):\n",
        "  if guess_count < guess_limit:\n",
        "    guess = input(\"Enter your guess: \")\n",
        "    guess_count += 1\n",
        "\n",
        "  else:\n",
        "    out_of_guess = True\n",
        "\n",
        "if out_of_guess:\n",
        "  print(\"No more guess. You Lose.\")\n",
        "\n",
        "else:\n",
        "  print(\"You Win!\")"
      ],
      "metadata": {
        "colab": {
          "base_uri": "https://localhost:8080/"
        },
        "id": "UCviwa3Oj3ts",
        "outputId": "8264b9a6-b3b8-4bc0-89a7-eca66ecedec3"
      },
      "execution_count": 9,
      "outputs": [
        {
          "output_type": "stream",
          "name": "stdout",
          "text": [
            "Enter your guess: banana\n",
            "You Win!\n"
          ]
        }
      ]
    }
  ]
}