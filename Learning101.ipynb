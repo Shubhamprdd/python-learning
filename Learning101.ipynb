{
  "nbformat": 4,
  "nbformat_minor": 0,
  "metadata": {
    "colab": {
      "provenance": [],
      "include_colab_link": true
    },
    "kernelspec": {
      "name": "python3",
      "display_name": "Python 3"
    },
    "language_info": {
      "name": "python"
    }
  },
  "cells": [
    {
      "cell_type": "markdown",
      "metadata": {
        "id": "view-in-github",
        "colab_type": "text"
      },
      "source": [
        "<a href=\"https://colab.research.google.com/github/Shubhamprdd/python-learning/blob/main/Learning101.ipynb\" target=\"_parent\"><img src=\"https://colab.research.google.com/assets/colab-badge.svg\" alt=\"Open In Colab\"/></a>"
      ]
    },
    {
      "cell_type": "markdown",
      "source": [
        "# **STRING**"
      ],
      "metadata": {
        "id": "1tBwDICEFQJW"
      }
    },
    {
      "cell_type": "code",
      "execution_count": null,
      "metadata": {
        "colab": {
          "base_uri": "https://localhost:8080/",
          "height": 36
        },
        "id": "wTa3loujEnPo",
        "outputId": "0806ad3e-c7da-463c-9f7f-ed556edef524"
      },
      "outputs": [
        {
          "output_type": "execute_result",
          "data": {
            "text/plain": [
              "'python'"
            ],
            "application/vnd.google.colaboratory.intrinsic+json": {
              "type": "string"
            }
          },
          "metadata": {},
          "execution_count": 1
        }
      ],
      "source": [
        "'python'"
      ]
    },
    {
      "cell_type": "code",
      "source": [
        "type('python')"
      ],
      "metadata": {
        "colab": {
          "base_uri": "https://localhost:8080/"
        },
        "id": "wFh3MJi0E6_S",
        "outputId": "f1b38128-f594-4c92-a61c-364caef78027"
      },
      "execution_count": null,
      "outputs": [
        {
          "output_type": "execute_result",
          "data": {
            "text/plain": [
              "str"
            ]
          },
          "metadata": {},
          "execution_count": 2
        }
      ]
    },
    {
      "cell_type": "code",
      "source": [
        "help(str)"
      ],
      "metadata": {
        "colab": {
          "base_uri": "https://localhost:8080/"
        },
        "id": "ReQar1K5E__1",
        "outputId": "5d9b99da-8029-4750-ded0-69d7bdae5f11"
      },
      "execution_count": null,
      "outputs": [
        {
          "output_type": "stream",
          "name": "stdout",
          "text": [
            "Help on class str in module builtins:\n",
            "\n",
            "class str(object)\n",
            " |  str(object='') -> str\n",
            " |  str(bytes_or_buffer[, encoding[, errors]]) -> str\n",
            " |  \n",
            " |  Create a new string object from the given object. If encoding or\n",
            " |  errors is specified, then the object must expose a data buffer\n",
            " |  that will be decoded using the given encoding and error handler.\n",
            " |  Otherwise, returns the result of object.__str__() (if defined)\n",
            " |  or repr(object).\n",
            " |  encoding defaults to sys.getdefaultencoding().\n",
            " |  errors defaults to 'strict'.\n",
            " |  \n",
            " |  Methods defined here:\n",
            " |  \n",
            " |  __add__(self, value, /)\n",
            " |      Return self+value.\n",
            " |  \n",
            " |  __contains__(self, key, /)\n",
            " |      Return key in self.\n",
            " |  \n",
            " |  __eq__(self, value, /)\n",
            " |      Return self==value.\n",
            " |  \n",
            " |  __format__(self, format_spec, /)\n",
            " |      Return a formatted version of the string as described by format_spec.\n",
            " |  \n",
            " |  __ge__(self, value, /)\n",
            " |      Return self>=value.\n",
            " |  \n",
            " |  __getattribute__(self, name, /)\n",
            " |      Return getattr(self, name).\n",
            " |  \n",
            " |  __getitem__(self, key, /)\n",
            " |      Return self[key].\n",
            " |  \n",
            " |  __getnewargs__(...)\n",
            " |  \n",
            " |  __gt__(self, value, /)\n",
            " |      Return self>value.\n",
            " |  \n",
            " |  __hash__(self, /)\n",
            " |      Return hash(self).\n",
            " |  \n",
            " |  __iter__(self, /)\n",
            " |      Implement iter(self).\n",
            " |  \n",
            " |  __le__(self, value, /)\n",
            " |      Return self<=value.\n",
            " |  \n",
            " |  __len__(self, /)\n",
            " |      Return len(self).\n",
            " |  \n",
            " |  __lt__(self, value, /)\n",
            " |      Return self<value.\n",
            " |  \n",
            " |  __mod__(self, value, /)\n",
            " |      Return self%value.\n",
            " |  \n",
            " |  __mul__(self, value, /)\n",
            " |      Return self*value.\n",
            " |  \n",
            " |  __ne__(self, value, /)\n",
            " |      Return self!=value.\n",
            " |  \n",
            " |  __repr__(self, /)\n",
            " |      Return repr(self).\n",
            " |  \n",
            " |  __rmod__(self, value, /)\n",
            " |      Return value%self.\n",
            " |  \n",
            " |  __rmul__(self, value, /)\n",
            " |      Return value*self.\n",
            " |  \n",
            " |  __sizeof__(self, /)\n",
            " |      Return the size of the string in memory, in bytes.\n",
            " |  \n",
            " |  __str__(self, /)\n",
            " |      Return str(self).\n",
            " |  \n",
            " |  capitalize(self, /)\n",
            " |      Return a capitalized version of the string.\n",
            " |      \n",
            " |      More specifically, make the first character have upper case and the rest lower\n",
            " |      case.\n",
            " |  \n",
            " |  casefold(self, /)\n",
            " |      Return a version of the string suitable for caseless comparisons.\n",
            " |  \n",
            " |  center(self, width, fillchar=' ', /)\n",
            " |      Return a centered string of length width.\n",
            " |      \n",
            " |      Padding is done using the specified fill character (default is a space).\n",
            " |  \n",
            " |  count(...)\n",
            " |      S.count(sub[, start[, end]]) -> int\n",
            " |      \n",
            " |      Return the number of non-overlapping occurrences of substring sub in\n",
            " |      string S[start:end].  Optional arguments start and end are\n",
            " |      interpreted as in slice notation.\n",
            " |  \n",
            " |  encode(self, /, encoding='utf-8', errors='strict')\n",
            " |      Encode the string using the codec registered for encoding.\n",
            " |      \n",
            " |      encoding\n",
            " |        The encoding in which to encode the string.\n",
            " |      errors\n",
            " |        The error handling scheme to use for encoding errors.\n",
            " |        The default is 'strict' meaning that encoding errors raise a\n",
            " |        UnicodeEncodeError.  Other possible values are 'ignore', 'replace' and\n",
            " |        'xmlcharrefreplace' as well as any other name registered with\n",
            " |        codecs.register_error that can handle UnicodeEncodeErrors.\n",
            " |  \n",
            " |  endswith(...)\n",
            " |      S.endswith(suffix[, start[, end]]) -> bool\n",
            " |      \n",
            " |      Return True if S ends with the specified suffix, False otherwise.\n",
            " |      With optional start, test S beginning at that position.\n",
            " |      With optional end, stop comparing S at that position.\n",
            " |      suffix can also be a tuple of strings to try.\n",
            " |  \n",
            " |  expandtabs(self, /, tabsize=8)\n",
            " |      Return a copy where all tab characters are expanded using spaces.\n",
            " |      \n",
            " |      If tabsize is not given, a tab size of 8 characters is assumed.\n",
            " |  \n",
            " |  find(...)\n",
            " |      S.find(sub[, start[, end]]) -> int\n",
            " |      \n",
            " |      Return the lowest index in S where substring sub is found,\n",
            " |      such that sub is contained within S[start:end].  Optional\n",
            " |      arguments start and end are interpreted as in slice notation.\n",
            " |      \n",
            " |      Return -1 on failure.\n",
            " |  \n",
            " |  format(...)\n",
            " |      S.format(*args, **kwargs) -> str\n",
            " |      \n",
            " |      Return a formatted version of S, using substitutions from args and kwargs.\n",
            " |      The substitutions are identified by braces ('{' and '}').\n",
            " |  \n",
            " |  format_map(...)\n",
            " |      S.format_map(mapping) -> str\n",
            " |      \n",
            " |      Return a formatted version of S, using substitutions from mapping.\n",
            " |      The substitutions are identified by braces ('{' and '}').\n",
            " |  \n",
            " |  index(...)\n",
            " |      S.index(sub[, start[, end]]) -> int\n",
            " |      \n",
            " |      Return the lowest index in S where substring sub is found,\n",
            " |      such that sub is contained within S[start:end].  Optional\n",
            " |      arguments start and end are interpreted as in slice notation.\n",
            " |      \n",
            " |      Raises ValueError when the substring is not found.\n",
            " |  \n",
            " |  isalnum(self, /)\n",
            " |      Return True if the string is an alpha-numeric string, False otherwise.\n",
            " |      \n",
            " |      A string is alpha-numeric if all characters in the string are alpha-numeric and\n",
            " |      there is at least one character in the string.\n",
            " |  \n",
            " |  isalpha(self, /)\n",
            " |      Return True if the string is an alphabetic string, False otherwise.\n",
            " |      \n",
            " |      A string is alphabetic if all characters in the string are alphabetic and there\n",
            " |      is at least one character in the string.\n",
            " |  \n",
            " |  isascii(self, /)\n",
            " |      Return True if all characters in the string are ASCII, False otherwise.\n",
            " |      \n",
            " |      ASCII characters have code points in the range U+0000-U+007F.\n",
            " |      Empty string is ASCII too.\n",
            " |  \n",
            " |  isdecimal(self, /)\n",
            " |      Return True if the string is a decimal string, False otherwise.\n",
            " |      \n",
            " |      A string is a decimal string if all characters in the string are decimal and\n",
            " |      there is at least one character in the string.\n",
            " |  \n",
            " |  isdigit(self, /)\n",
            " |      Return True if the string is a digit string, False otherwise.\n",
            " |      \n",
            " |      A string is a digit string if all characters in the string are digits and there\n",
            " |      is at least one character in the string.\n",
            " |  \n",
            " |  isidentifier(self, /)\n",
            " |      Return True if the string is a valid Python identifier, False otherwise.\n",
            " |      \n",
            " |      Call keyword.iskeyword(s) to test whether string s is a reserved identifier,\n",
            " |      such as \"def\" or \"class\".\n",
            " |  \n",
            " |  islower(self, /)\n",
            " |      Return True if the string is a lowercase string, False otherwise.\n",
            " |      \n",
            " |      A string is lowercase if all cased characters in the string are lowercase and\n",
            " |      there is at least one cased character in the string.\n",
            " |  \n",
            " |  isnumeric(self, /)\n",
            " |      Return True if the string is a numeric string, False otherwise.\n",
            " |      \n",
            " |      A string is numeric if all characters in the string are numeric and there is at\n",
            " |      least one character in the string.\n",
            " |  \n",
            " |  isprintable(self, /)\n",
            " |      Return True if the string is printable, False otherwise.\n",
            " |      \n",
            " |      A string is printable if all of its characters are considered printable in\n",
            " |      repr() or if it is empty.\n",
            " |  \n",
            " |  isspace(self, /)\n",
            " |      Return True if the string is a whitespace string, False otherwise.\n",
            " |      \n",
            " |      A string is whitespace if all characters in the string are whitespace and there\n",
            " |      is at least one character in the string.\n",
            " |  \n",
            " |  istitle(self, /)\n",
            " |      Return True if the string is a title-cased string, False otherwise.\n",
            " |      \n",
            " |      In a title-cased string, upper- and title-case characters may only\n",
            " |      follow uncased characters and lowercase characters only cased ones.\n",
            " |  \n",
            " |  isupper(self, /)\n",
            " |      Return True if the string is an uppercase string, False otherwise.\n",
            " |      \n",
            " |      A string is uppercase if all cased characters in the string are uppercase and\n",
            " |      there is at least one cased character in the string.\n",
            " |  \n",
            " |  join(self, iterable, /)\n",
            " |      Concatenate any number of strings.\n",
            " |      \n",
            " |      The string whose method is called is inserted in between each given string.\n",
            " |      The result is returned as a new string.\n",
            " |      \n",
            " |      Example: '.'.join(['ab', 'pq', 'rs']) -> 'ab.pq.rs'\n",
            " |  \n",
            " |  ljust(self, width, fillchar=' ', /)\n",
            " |      Return a left-justified string of length width.\n",
            " |      \n",
            " |      Padding is done using the specified fill character (default is a space).\n",
            " |  \n",
            " |  lower(self, /)\n",
            " |      Return a copy of the string converted to lowercase.\n",
            " |  \n",
            " |  lstrip(self, chars=None, /)\n",
            " |      Return a copy of the string with leading whitespace removed.\n",
            " |      \n",
            " |      If chars is given and not None, remove characters in chars instead.\n",
            " |  \n",
            " |  partition(self, sep, /)\n",
            " |      Partition the string into three parts using the given separator.\n",
            " |      \n",
            " |      This will search for the separator in the string.  If the separator is found,\n",
            " |      returns a 3-tuple containing the part before the separator, the separator\n",
            " |      itself, and the part after it.\n",
            " |      \n",
            " |      If the separator is not found, returns a 3-tuple containing the original string\n",
            " |      and two empty strings.\n",
            " |  \n",
            " |  removeprefix(self, prefix, /)\n",
            " |      Return a str with the given prefix string removed if present.\n",
            " |      \n",
            " |      If the string starts with the prefix string, return string[len(prefix):].\n",
            " |      Otherwise, return a copy of the original string.\n",
            " |  \n",
            " |  removesuffix(self, suffix, /)\n",
            " |      Return a str with the given suffix string removed if present.\n",
            " |      \n",
            " |      If the string ends with the suffix string and that suffix is not empty,\n",
            " |      return string[:-len(suffix)]. Otherwise, return a copy of the original\n",
            " |      string.\n",
            " |  \n",
            " |  replace(self, old, new, count=-1, /)\n",
            " |      Return a copy with all occurrences of substring old replaced by new.\n",
            " |      \n",
            " |        count\n",
            " |          Maximum number of occurrences to replace.\n",
            " |          -1 (the default value) means replace all occurrences.\n",
            " |      \n",
            " |      If the optional argument count is given, only the first count occurrences are\n",
            " |      replaced.\n",
            " |  \n",
            " |  rfind(...)\n",
            " |      S.rfind(sub[, start[, end]]) -> int\n",
            " |      \n",
            " |      Return the highest index in S where substring sub is found,\n",
            " |      such that sub is contained within S[start:end].  Optional\n",
            " |      arguments start and end are interpreted as in slice notation.\n",
            " |      \n",
            " |      Return -1 on failure.\n",
            " |  \n",
            " |  rindex(...)\n",
            " |      S.rindex(sub[, start[, end]]) -> int\n",
            " |      \n",
            " |      Return the highest index in S where substring sub is found,\n",
            " |      such that sub is contained within S[start:end].  Optional\n",
            " |      arguments start and end are interpreted as in slice notation.\n",
            " |      \n",
            " |      Raises ValueError when the substring is not found.\n",
            " |  \n",
            " |  rjust(self, width, fillchar=' ', /)\n",
            " |      Return a right-justified string of length width.\n",
            " |      \n",
            " |      Padding is done using the specified fill character (default is a space).\n",
            " |  \n",
            " |  rpartition(self, sep, /)\n",
            " |      Partition the string into three parts using the given separator.\n",
            " |      \n",
            " |      This will search for the separator in the string, starting at the end. If\n",
            " |      the separator is found, returns a 3-tuple containing the part before the\n",
            " |      separator, the separator itself, and the part after it.\n",
            " |      \n",
            " |      If the separator is not found, returns a 3-tuple containing two empty strings\n",
            " |      and the original string.\n",
            " |  \n",
            " |  rsplit(self, /, sep=None, maxsplit=-1)\n",
            " |      Return a list of the substrings in the string, using sep as the separator string.\n",
            " |      \n",
            " |        sep\n",
            " |          The separator used to split the string.\n",
            " |      \n",
            " |          When set to None (the default value), will split on any whitespace\n",
            " |          character (including \\\\n \\\\r \\\\t \\\\f and spaces) and will discard\n",
            " |          empty strings from the result.\n",
            " |        maxsplit\n",
            " |          Maximum number of splits (starting from the left).\n",
            " |          -1 (the default value) means no limit.\n",
            " |      \n",
            " |      Splitting starts at the end of the string and works to the front.\n",
            " |  \n",
            " |  rstrip(self, chars=None, /)\n",
            " |      Return a copy of the string with trailing whitespace removed.\n",
            " |      \n",
            " |      If chars is given and not None, remove characters in chars instead.\n",
            " |  \n",
            " |  split(self, /, sep=None, maxsplit=-1)\n",
            " |      Return a list of the substrings in the string, using sep as the separator string.\n",
            " |      \n",
            " |        sep\n",
            " |          The separator used to split the string.\n",
            " |      \n",
            " |          When set to None (the default value), will split on any whitespace\n",
            " |          character (including \\\\n \\\\r \\\\t \\\\f and spaces) and will discard\n",
            " |          empty strings from the result.\n",
            " |        maxsplit\n",
            " |          Maximum number of splits (starting from the left).\n",
            " |          -1 (the default value) means no limit.\n",
            " |      \n",
            " |      Note, str.split() is mainly useful for data that has been intentionally\n",
            " |      delimited.  With natural text that includes punctuation, consider using\n",
            " |      the regular expression module.\n",
            " |  \n",
            " |  splitlines(self, /, keepends=False)\n",
            " |      Return a list of the lines in the string, breaking at line boundaries.\n",
            " |      \n",
            " |      Line breaks are not included in the resulting list unless keepends is given and\n",
            " |      true.\n",
            " |  \n",
            " |  startswith(...)\n",
            " |      S.startswith(prefix[, start[, end]]) -> bool\n",
            " |      \n",
            " |      Return True if S starts with the specified prefix, False otherwise.\n",
            " |      With optional start, test S beginning at that position.\n",
            " |      With optional end, stop comparing S at that position.\n",
            " |      prefix can also be a tuple of strings to try.\n",
            " |  \n",
            " |  strip(self, chars=None, /)\n",
            " |      Return a copy of the string with leading and trailing whitespace removed.\n",
            " |      \n",
            " |      If chars is given and not None, remove characters in chars instead.\n",
            " |  \n",
            " |  swapcase(self, /)\n",
            " |      Convert uppercase characters to lowercase and lowercase characters to uppercase.\n",
            " |  \n",
            " |  title(self, /)\n",
            " |      Return a version of the string where each word is titlecased.\n",
            " |      \n",
            " |      More specifically, words start with uppercased characters and all remaining\n",
            " |      cased characters have lower case.\n",
            " |  \n",
            " |  translate(self, table, /)\n",
            " |      Replace each character in the string using the given translation table.\n",
            " |      \n",
            " |        table\n",
            " |          Translation table, which must be a mapping of Unicode ordinals to\n",
            " |          Unicode ordinals, strings, or None.\n",
            " |      \n",
            " |      The table must implement lookup/indexing via __getitem__, for instance a\n",
            " |      dictionary or list.  If this operation raises LookupError, the character is\n",
            " |      left untouched.  Characters mapped to None are deleted.\n",
            " |  \n",
            " |  upper(self, /)\n",
            " |      Return a copy of the string converted to uppercase.\n",
            " |  \n",
            " |  zfill(self, width, /)\n",
            " |      Pad a numeric string with zeros on the left, to fill a field of the given width.\n",
            " |      \n",
            " |      The string is never truncated.\n",
            " |  \n",
            " |  ----------------------------------------------------------------------\n",
            " |  Static methods defined here:\n",
            " |  \n",
            " |  __new__(*args, **kwargs) from builtins.type\n",
            " |      Create and return a new object.  See help(type) for accurate signature.\n",
            " |  \n",
            " |  maketrans(...)\n",
            " |      Return a translation table usable for str.translate().\n",
            " |      \n",
            " |      If there is only one argument, it must be a dictionary mapping Unicode\n",
            " |      ordinals (integers) or characters to Unicode ordinals, strings or None.\n",
            " |      Character keys will be then converted to ordinals.\n",
            " |      If there are two arguments, they must be strings of equal length, and\n",
            " |      in the resulting dictionary, each character in x will be mapped to the\n",
            " |      character at the same position in y. If there is a third argument, it\n",
            " |      must be a string, whose characters will be mapped to None in the result.\n",
            "\n"
          ]
        }
      ]
    },
    {
      "cell_type": "code",
      "source": [
        "role = 'data analyst'\n",
        "skill = 'python'\n",
        "print(role, skill)"
      ],
      "metadata": {
        "colab": {
          "base_uri": "https://localhost:8080/"
        },
        "id": "G5Y-hb2QFCTk",
        "outputId": "1861a705-ff79-4e44-de2e-3facebecbdcd"
      },
      "execution_count": null,
      "outputs": [
        {
          "output_type": "stream",
          "name": "stdout",
          "text": [
            "data analyst python\n"
          ]
        }
      ]
    },
    {
      "cell_type": "code",
      "source": [
        "role = 'data analyst'\n",
        "skill = 'python'\n",
        "f\"role: {role}, skill required: {skill}\""
      ],
      "metadata": {
        "colab": {
          "base_uri": "https://localhost:8080/",
          "height": 36
        },
        "id": "ilnYLwiLFS9A",
        "outputId": "7dea3feb-4b8f-4b5a-f2ec-8ab03c511438"
      },
      "execution_count": null,
      "outputs": [
        {
          "output_type": "execute_result",
          "data": {
            "text/plain": [
              "'role: data analyst, skill required: python'"
            ],
            "application/vnd.google.colaboratory.intrinsic+json": {
              "type": "string"
            }
          },
          "metadata": {},
          "execution_count": 5
        }
      ]
    },
    {
      "cell_type": "code",
      "source": [
        "\"role: %s, skill required: %s\" % (role, skill)"
      ],
      "metadata": {
        "colab": {
          "base_uri": "https://localhost:8080/",
          "height": 36
        },
        "id": "3jKa03v3FjyJ",
        "outputId": "012a7e2d-b7bb-459a-af2e-7ff353cc1600"
      },
      "execution_count": null,
      "outputs": [
        {
          "output_type": "execute_result",
          "data": {
            "text/plain": [
              "'role: data analyst, skill required: python'"
            ],
            "application/vnd.google.colaboratory.intrinsic+json": {
              "type": "string"
            }
          },
          "metadata": {},
          "execution_count": 6
        }
      ]
    },
    {
      "cell_type": "markdown",
      "source": [
        "# **Mathematical Operations**"
      ],
      "metadata": {
        "id": "rr6VBzB4F1S2"
      }
    },
    {
      "cell_type": "code",
      "source": [
        "year_experience = '02122020'\n",
        "','.join(year_experience)"
      ],
      "metadata": {
        "colab": {
          "base_uri": "https://localhost:8080/",
          "height": 36
        },
        "id": "2p1o7a6dF-m5",
        "outputId": "a8e83b4a-ba2a-47b1-887f-62821e3f6418"
      },
      "execution_count": null,
      "outputs": [
        {
          "output_type": "execute_result",
          "data": {
            "text/plain": [
              "'0,2,1,2,2,0,2,0'"
            ],
            "application/vnd.google.colaboratory.intrinsic+json": {
              "type": "string"
            }
          },
          "metadata": {},
          "execution_count": 7
        }
      ]
    },
    {
      "cell_type": "code",
      "source": [
        "5+2"
      ],
      "metadata": {
        "colab": {
          "base_uri": "https://localhost:8080/"
        },
        "id": "0EcccMO7GrNR",
        "outputId": "0d92bfe3-a69c-4518-bf6e-dfc032859af0"
      },
      "execution_count": null,
      "outputs": [
        {
          "output_type": "execute_result",
          "data": {
            "text/plain": [
              "7"
            ]
          },
          "metadata": {},
          "execution_count": 8
        }
      ]
    },
    {
      "cell_type": "code",
      "source": [
        "5/2"
      ],
      "metadata": {
        "colab": {
          "base_uri": "https://localhost:8080/"
        },
        "id": "pZqNlObCIPnZ",
        "outputId": "43e4806a-f069-4ccf-ed48-226edd82438d"
      },
      "execution_count": null,
      "outputs": [
        {
          "output_type": "execute_result",
          "data": {
            "text/plain": [
              "2.5"
            ]
          },
          "metadata": {},
          "execution_count": 9
        }
      ]
    },
    {
      "cell_type": "code",
      "source": [
        "5//2"
      ],
      "metadata": {
        "colab": {
          "base_uri": "https://localhost:8080/"
        },
        "id": "TqNWEISZIRsS",
        "outputId": "2c92cad5-c977-46a3-e012-ce54ed07c313"
      },
      "execution_count": null,
      "outputs": [
        {
          "output_type": "execute_result",
          "data": {
            "text/plain": [
              "2"
            ]
          },
          "metadata": {},
          "execution_count": 10
        }
      ]
    },
    {
      "cell_type": "code",
      "source": [
        "5%2"
      ],
      "metadata": {
        "colab": {
          "base_uri": "https://localhost:8080/"
        },
        "id": "bdNRtNLtIS_C",
        "outputId": "fcc98845-8b03-4e84-c951-dbe433995029"
      },
      "execution_count": null,
      "outputs": [
        {
          "output_type": "execute_result",
          "data": {
            "text/plain": [
              "1"
            ]
          },
          "metadata": {},
          "execution_count": 11
        }
      ]
    },
    {
      "cell_type": "code",
      "source": [
        "min_salary = 200000\n",
        "max_salary = 800000\n",
        "\n",
        "avg_salary = (min_salary + max_salary) / 2\n",
        "avg_salary"
      ],
      "metadata": {
        "colab": {
          "base_uri": "https://localhost:8080/"
        },
        "id": "mwrLPnNRIYDJ",
        "outputId": "2b4c758c-f8b9-45f5-fcf4-69ba3770bd42"
      },
      "execution_count": null,
      "outputs": [
        {
          "output_type": "execute_result",
          "data": {
            "text/plain": [
              "500000.0"
            ]
          },
          "metadata": {},
          "execution_count": 12
        }
      ]
    },
    {
      "cell_type": "markdown",
      "source": [
        "# **Assign Operators**"
      ],
      "metadata": {
        "id": "T_Ghb1rxGLLQ"
      }
    },
    {
      "cell_type": "code",
      "source": [
        "applicant_1 = 'Kelly'\n",
        "applicant_2 = 'Luke'\n",
        "\n",
        "applicant_1, applicant_2 = applicant_2, applicant_1\n",
        "applicant_1, applicant_2"
      ],
      "metadata": {
        "colab": {
          "base_uri": "https://localhost:8080/"
        },
        "id": "Ar9rChJeLVpr",
        "outputId": "42dce41a-f951-463c-a409-d33b18a5e06e"
      },
      "execution_count": null,
      "outputs": [
        {
          "output_type": "execute_result",
          "data": {
            "text/plain": [
              "('Luke', 'Kelly')"
            ]
          },
          "metadata": {},
          "execution_count": 13
        }
      ]
    },
    {
      "cell_type": "code",
      "source": [
        "x = 5\n",
        "x += 2\n",
        "x"
      ],
      "metadata": {
        "colab": {
          "base_uri": "https://localhost:8080/"
        },
        "id": "Ko7LuLT_L_80",
        "outputId": "cac3cc39-9b61-47d3-e80b-0ca544c0d7b1"
      },
      "execution_count": null,
      "outputs": [
        {
          "output_type": "execute_result",
          "data": {
            "text/plain": [
              "7"
            ]
          },
          "metadata": {},
          "execution_count": 14
        }
      ]
    },
    {
      "cell_type": "code",
      "source": [
        "x = 5\n",
        "x *= 2\n",
        "x"
      ],
      "metadata": {
        "colab": {
          "base_uri": "https://localhost:8080/"
        },
        "id": "-eCbsEQPMoeb",
        "outputId": "bb7254b8-dfad-4afd-a7a1-81ccb3260e30"
      },
      "execution_count": null,
      "outputs": [
        {
          "output_type": "execute_result",
          "data": {
            "text/plain": [
              "10"
            ]
          },
          "metadata": {},
          "execution_count": 15
        }
      ]
    },
    {
      "cell_type": "code",
      "source": [
        "kelly_salary = 200000\n",
        "luke_salary = 800000\n",
        "\n",
        "kelly_salary == luke_salary"
      ],
      "metadata": {
        "colab": {
          "base_uri": "https://localhost:8080/"
        },
        "id": "eC-B_M34Ms4a",
        "outputId": "cda476b0-4bf6-4619-ecd9-ed34af013f5b"
      },
      "execution_count": null,
      "outputs": [
        {
          "output_type": "execute_result",
          "data": {
            "text/plain": [
              "False"
            ]
          },
          "metadata": {},
          "execution_count": 16
        }
      ]
    },
    {
      "cell_type": "code",
      "source": [
        "if kelly_salary < luke_salary:\n",
        "    print('Luke is paid more than Kelly by: ' + str(luke_salary - kelly_salary))"
      ],
      "metadata": {
        "id": "oVVCUWm5NNEJ",
        "colab": {
          "base_uri": "https://localhost:8080/"
        },
        "outputId": "4dbaba28-6380-4c2e-fda8-213e5fc970d0"
      },
      "execution_count": null,
      "outputs": [
        {
          "output_type": "stream",
          "name": "stdout",
          "text": [
            "Luke is paid more than Kelly by: 600000\n"
          ]
        }
      ]
    },
    {
      "cell_type": "code",
      "source": [
        "job_skill = 'SQL'\n",
        "applicant_skill = 'Python'\n",
        "year_experience = 6"
      ],
      "metadata": {
        "id": "EpmlOUEkNpbl"
      },
      "execution_count": null,
      "outputs": []
    },
    {
      "cell_type": "code",
      "source": [
        "if job_skill == applicant_skill:\n",
        "    print('Skill Match!')\n",
        "elif year_experience >= 5:\n",
        "    print('Enough Experience; No SQL')\n",
        "elif applicant_skill == 'python':\n",
        "    print('Knows Python No SQL')\n",
        "else:\n",
        "    print('No Skill or Experience')"
      ],
      "metadata": {
        "colab": {
          "base_uri": "https://localhost:8080/"
        },
        "id": "ouocxvrLP-bq",
        "outputId": "e1d49e4c-2bc9-4122-e3db-d454aac8e1b8"
      },
      "execution_count": null,
      "outputs": [
        {
          "output_type": "stream",
          "name": "stdout",
          "text": [
            "Enough Experience; No SQL\n"
          ]
        }
      ]
    },
    {
      "cell_type": "markdown",
      "source": [
        "# **LIST**"
      ],
      "metadata": {
        "id": "w-AEZ9BrFhis"
      }
    },
    {
      "cell_type": "code",
      "source": [
        "job_skill = ['sql', 'tableau', 'excel']"
      ],
      "metadata": {
        "id": "boinWHCMQ4wV"
      },
      "execution_count": null,
      "outputs": []
    },
    {
      "cell_type": "code",
      "source": [
        "job_skill.append('python')\n",
        "job_skill"
      ],
      "metadata": {
        "colab": {
          "base_uri": "https://localhost:8080/"
        },
        "id": "3XtJBYSOGhbm",
        "outputId": "baefaa57-f816-4c29-da4f-0f083bc24a81"
      },
      "execution_count": null,
      "outputs": [
        {
          "output_type": "execute_result",
          "data": {
            "text/plain": [
              "['sql', 'tableau', 'excel', 'python']"
            ]
          },
          "metadata": {},
          "execution_count": 21
        }
      ]
    },
    {
      "cell_type": "code",
      "source": [
        "job_skill.remove('tableau')\n",
        "job_skill"
      ],
      "metadata": {
        "colab": {
          "base_uri": "https://localhost:8080/"
        },
        "id": "JF_vaee7Gqva",
        "outputId": "3be4bbd6-8d24-4718-9c9d-432162fb94e2"
      },
      "execution_count": null,
      "outputs": [
        {
          "output_type": "execute_result",
          "data": {
            "text/plain": [
              "['sql', 'excel', 'python']"
            ]
          },
          "metadata": {},
          "execution_count": 22
        }
      ]
    },
    {
      "cell_type": "code",
      "source": [
        "len(job_skill)"
      ],
      "metadata": {
        "colab": {
          "base_uri": "https://localhost:8080/"
        },
        "id": "WNexpNhIGybr",
        "outputId": "79a15e5a-294e-4041-b483-cc5075569c2a"
      },
      "execution_count": null,
      "outputs": [
        {
          "output_type": "execute_result",
          "data": {
            "text/plain": [
              "3"
            ]
          },
          "metadata": {},
          "execution_count": 23
        }
      ]
    },
    {
      "cell_type": "code",
      "source": [
        "job_skill.insert(2, 'tableau')\n",
        "job_skill"
      ],
      "metadata": {
        "colab": {
          "base_uri": "https://localhost:8080/"
        },
        "id": "A7kukF38G1G8",
        "outputId": "cee2616a-40d1-4866-9a8e-58c3a3ac03e8"
      },
      "execution_count": null,
      "outputs": [
        {
          "output_type": "execute_result",
          "data": {
            "text/plain": [
              "['sql', 'excel', 'tableau', 'python']"
            ]
          },
          "metadata": {},
          "execution_count": 24
        }
      ]
    },
    {
      "cell_type": "code",
      "source": [
        "job_skill.pop(2)\n",
        "job_skill"
      ],
      "metadata": {
        "colab": {
          "base_uri": "https://localhost:8080/"
        },
        "id": "ODfDoH1VG95S",
        "outputId": "26077bb5-9548-4031-ffb0-119689b711a9"
      },
      "execution_count": null,
      "outputs": [
        {
          "output_type": "execute_result",
          "data": {
            "text/plain": [
              "['sql', 'excel', 'python']"
            ]
          },
          "metadata": {},
          "execution_count": 25
        }
      ]
    },
    {
      "cell_type": "code",
      "source": [
        "job_skill.pop()\n",
        "job_skill"
      ],
      "metadata": {
        "colab": {
          "base_uri": "https://localhost:8080/"
        },
        "id": "zx_RLbYtHLxe",
        "outputId": "3ac7dbc1-cb10-4b5f-a0f2-50e4e673b492"
      },
      "execution_count": null,
      "outputs": [
        {
          "output_type": "execute_result",
          "data": {
            "text/plain": [
              "['sql', 'excel']"
            ]
          },
          "metadata": {},
          "execution_count": 26
        }
      ]
    },
    {
      "cell_type": "code",
      "source": [
        "job_skill.insert(2, 'python')\n",
        "job_skill"
      ],
      "metadata": {
        "colab": {
          "base_uri": "https://localhost:8080/"
        },
        "id": "vDpden76HW9a",
        "outputId": "80498db8-b0b4-442c-ee3f-f1343c139975"
      },
      "execution_count": null,
      "outputs": [
        {
          "output_type": "execute_result",
          "data": {
            "text/plain": [
              "['sql', 'excel', 'python']"
            ]
          },
          "metadata": {},
          "execution_count": 27
        }
      ]
    },
    {
      "cell_type": "code",
      "source": [
        "job_skill[0:3]"
      ],
      "metadata": {
        "colab": {
          "base_uri": "https://localhost:8080/"
        },
        "id": "TcVRqikIHvJB",
        "outputId": "9c0f298f-1309-463e-d0ca-09ced349a7f8"
      },
      "execution_count": null,
      "outputs": [
        {
          "output_type": "execute_result",
          "data": {
            "text/plain": [
              "['sql', 'excel', 'python']"
            ]
          },
          "metadata": {},
          "execution_count": 28
        }
      ]
    },
    {
      "cell_type": "code",
      "source": [
        "job_skill[:]"
      ],
      "metadata": {
        "colab": {
          "base_uri": "https://localhost:8080/"
        },
        "id": "Cyjo_MKwH5I5",
        "outputId": "a07b64a0-545b-410b-8039-674c489c72cb"
      },
      "execution_count": null,
      "outputs": [
        {
          "output_type": "execute_result",
          "data": {
            "text/plain": [
              "['sql', 'excel', 'python']"
            ]
          },
          "metadata": {},
          "execution_count": 29
        }
      ]
    },
    {
      "cell_type": "code",
      "source": [
        "job_skill[:1]"
      ],
      "metadata": {
        "colab": {
          "base_uri": "https://localhost:8080/"
        },
        "id": "c6ok9tVeIIdC",
        "outputId": "01f3ea12-98a6-4124-84a4-4b0e66e89c3e"
      },
      "execution_count": null,
      "outputs": [
        {
          "output_type": "execute_result",
          "data": {
            "text/plain": [
              "['sql']"
            ]
          },
          "metadata": {},
          "execution_count": 30
        }
      ]
    },
    {
      "cell_type": "code",
      "source": [
        "job_skill[1:]"
      ],
      "metadata": {
        "colab": {
          "base_uri": "https://localhost:8080/"
        },
        "id": "r8L1ikSkIKxK",
        "outputId": "a35efbef-b0a6-4f4f-fbab-16391674b771"
      },
      "execution_count": null,
      "outputs": [
        {
          "output_type": "execute_result",
          "data": {
            "text/plain": [
              "['excel', 'python']"
            ]
          },
          "metadata": {},
          "execution_count": 31
        }
      ]
    },
    {
      "cell_type": "code",
      "source": [
        "job_skill[::]"
      ],
      "metadata": {
        "colab": {
          "base_uri": "https://localhost:8080/"
        },
        "id": "HXkinUfbIRVK",
        "outputId": "d52ed391-d4af-4fac-dcac-f9aa4926550a"
      },
      "execution_count": null,
      "outputs": [
        {
          "output_type": "execute_result",
          "data": {
            "text/plain": [
              "['sql', 'excel', 'python']"
            ]
          },
          "metadata": {},
          "execution_count": 32
        }
      ]
    },
    {
      "cell_type": "code",
      "source": [
        "job_skill[::1]"
      ],
      "metadata": {
        "colab": {
          "base_uri": "https://localhost:8080/"
        },
        "id": "A02rE5zgItv6",
        "outputId": "4be2adfe-a9eb-4a38-959d-28dfdcc22f94"
      },
      "execution_count": null,
      "outputs": [
        {
          "output_type": "execute_result",
          "data": {
            "text/plain": [
              "['sql', 'excel', 'python']"
            ]
          },
          "metadata": {},
          "execution_count": 33
        }
      ]
    },
    {
      "cell_type": "code",
      "source": [
        "job_skill[::2]"
      ],
      "metadata": {
        "colab": {
          "base_uri": "https://localhost:8080/"
        },
        "id": "441HcYAMIvVS",
        "outputId": "8e2b102f-e078-4321-b984-0141dc88d3cd"
      },
      "execution_count": null,
      "outputs": [
        {
          "output_type": "execute_result",
          "data": {
            "text/plain": [
              "['sql', 'python']"
            ]
          },
          "metadata": {},
          "execution_count": 34
        }
      ]
    },
    {
      "cell_type": "code",
      "source": [
        "job_skill[::3]"
      ],
      "metadata": {
        "colab": {
          "base_uri": "https://localhost:8080/"
        },
        "id": "C3jioGXPI1Ix",
        "outputId": "b1deddd6-aca9-483e-ede3-5f99d8dfb208"
      },
      "execution_count": null,
      "outputs": [
        {
          "output_type": "execute_result",
          "data": {
            "text/plain": [
              "['sql']"
            ]
          },
          "metadata": {},
          "execution_count": 35
        }
      ]
    },
    {
      "cell_type": "code",
      "source": [
        "luke_skills = ['python', 'bigquery', 'r']\n",
        "kelly_skills = ['python','sql', 'looker']"
      ],
      "metadata": {
        "id": "xaVOVrI7I3Ai"
      },
      "execution_count": null,
      "outputs": []
    },
    {
      "cell_type": "code",
      "source": [
        "all_skills = luke_skills + kelly_skills\n",
        "all_skills"
      ],
      "metadata": {
        "colab": {
          "base_uri": "https://localhost:8080/"
        },
        "id": "36Q1vcZfJSVJ",
        "outputId": "bf353d9f-814c-49c7-e970-72ec9cf4ebae"
      },
      "execution_count": null,
      "outputs": [
        {
          "output_type": "execute_result",
          "data": {
            "text/plain": [
              "['python', 'bigquery', 'r', 'python', 'sql', 'looker']"
            ]
          },
          "metadata": {},
          "execution_count": 37
        }
      ]
    },
    {
      "cell_type": "code",
      "source": [
        "all_skills[::2]"
      ],
      "metadata": {
        "colab": {
          "base_uri": "https://localhost:8080/"
        },
        "id": "AK5EAct6Jbkq",
        "outputId": "30a1bf22-8d62-41ae-d7fd-8017607ca241"
      },
      "execution_count": null,
      "outputs": [
        {
          "output_type": "execute_result",
          "data": {
            "text/plain": [
              "['python', 'r', 'sql']"
            ]
          },
          "metadata": {},
          "execution_count": 38
        }
      ]
    },
    {
      "cell_type": "code",
      "source": [
        "all_skills[5]"
      ],
      "metadata": {
        "colab": {
          "base_uri": "https://localhost:8080/",
          "height": 36
        },
        "id": "xAF7mfK9J04h",
        "outputId": "fb84f0fe-8272-4390-b51c-60bb242c152e"
      },
      "execution_count": null,
      "outputs": [
        {
          "output_type": "execute_result",
          "data": {
            "text/plain": [
              "'looker'"
            ],
            "application/vnd.google.colaboratory.intrinsic+json": {
              "type": "string"
            }
          },
          "metadata": {},
          "execution_count": 39
        }
      ]
    },
    {
      "cell_type": "code",
      "source": [
        "all_skills[-1]"
      ],
      "metadata": {
        "colab": {
          "base_uri": "https://localhost:8080/",
          "height": 36
        },
        "id": "46uVIX7NJ8w4",
        "outputId": "e1eaaa7e-2328-490f-a2ea-e910b0fe29fc"
      },
      "execution_count": null,
      "outputs": [
        {
          "output_type": "execute_result",
          "data": {
            "text/plain": [
              "'looker'"
            ],
            "application/vnd.google.colaboratory.intrinsic+json": {
              "type": "string"
            }
          },
          "metadata": {},
          "execution_count": 40
        }
      ]
    },
    {
      "cell_type": "code",
      "source": [
        "all_skills[:-2]"
      ],
      "metadata": {
        "colab": {
          "base_uri": "https://localhost:8080/"
        },
        "id": "nMbxjCa2KFQK",
        "outputId": "0c39d911-6499-45ed-ce5c-5e94b6ab648a"
      },
      "execution_count": null,
      "outputs": [
        {
          "output_type": "execute_result",
          "data": {
            "text/plain": [
              "['python', 'bigquery', 'r', 'python']"
            ]
          },
          "metadata": {},
          "execution_count": 41
        }
      ]
    },
    {
      "cell_type": "code",
      "source": [
        "all_skills[-2:]"
      ],
      "metadata": {
        "colab": {
          "base_uri": "https://localhost:8080/"
        },
        "id": "GSvw5prlKJmR",
        "outputId": "7041175e-65cd-4712-879f-061174fbc1da"
      },
      "execution_count": null,
      "outputs": [
        {
          "output_type": "execute_result",
          "data": {
            "text/plain": [
              "['sql', 'looker']"
            ]
          },
          "metadata": {},
          "execution_count": 42
        }
      ]
    },
    {
      "cell_type": "code",
      "source": [
        "job_skill = ['sql', 'tableau', 'excel']\n",
        "skill1, skill2, skill3 = job_skill\n"
      ],
      "metadata": {
        "id": "fqQ-gJUUKW96"
      },
      "execution_count": null,
      "outputs": []
    },
    {
      "cell_type": "code",
      "source": [
        "skill1"
      ],
      "metadata": {
        "colab": {
          "base_uri": "https://localhost:8080/",
          "height": 36
        },
        "id": "GsNISOpBKxyr",
        "outputId": "2e911b2f-b7dd-4a80-a9c7-45a078b303fb"
      },
      "execution_count": null,
      "outputs": [
        {
          "output_type": "execute_result",
          "data": {
            "text/plain": [
              "'sql'"
            ],
            "application/vnd.google.colaboratory.intrinsic+json": {
              "type": "string"
            }
          },
          "metadata": {},
          "execution_count": 44
        }
      ]
    },
    {
      "cell_type": "code",
      "source": [
        "print(skill1)\n",
        "print(skill2)\n",
        "print(skill3)"
      ],
      "metadata": {
        "colab": {
          "base_uri": "https://localhost:8080/"
        },
        "id": "2Wfgwn4CKzR7",
        "outputId": "88a6423a-db19-407e-cef0-2d8114f70df8"
      },
      "execution_count": null,
      "outputs": [
        {
          "output_type": "stream",
          "name": "stdout",
          "text": [
            "sql\n",
            "tableau\n",
            "excel\n"
          ]
        }
      ]
    },
    {
      "cell_type": "code",
      "source": [
        "#skill_concerned = python and *skills_dont_care = remaining\n",
        "job_skill = ['sql', 'tableau', 'excel']\n",
        "skill_concerned, *skills_dont_care = job_skill"
      ],
      "metadata": {
        "id": "vYPOme-ZK22x"
      },
      "execution_count": null,
      "outputs": []
    },
    {
      "cell_type": "code",
      "source": [
        "print(skill_concerned)\n",
        "print(skills_dont_care)"
      ],
      "metadata": {
        "id": "qKFqIu3xLyPh",
        "outputId": "ab8393f5-4982-421c-861a-7d33415eb344",
        "colab": {
          "base_uri": "https://localhost:8080/"
        }
      },
      "execution_count": null,
      "outputs": [
        {
          "output_type": "stream",
          "name": "stdout",
          "text": [
            "sql\n",
            "['tableau', 'excel']\n"
          ]
        }
      ]
    },
    {
      "cell_type": "markdown",
      "source": [
        "# **Dictionaries**"
      ],
      "metadata": {
        "id": "Ke3gflbXDER2"
      }
    },
    {
      "cell_type": "code",
      "source": [
        "job_type_skills = {\n",
        "    'database':'postgres',\n",
        "    'language':'python',\n",
        "    'library':'pandas'\n",
        "    }"
      ],
      "metadata": {
        "id": "5dx-RCtPL1zJ"
      },
      "execution_count": null,
      "outputs": []
    },
    {
      "cell_type": "code",
      "source": [
        "job_type_skills"
      ],
      "metadata": {
        "colab": {
          "base_uri": "https://localhost:8080/"
        },
        "id": "0GdwCBJlC2Ui",
        "outputId": "cf5b853e-1e8f-4429-c12c-75b17692db85"
      },
      "execution_count": null,
      "outputs": [
        {
          "output_type": "execute_result",
          "data": {
            "text/plain": [
              "{'database': 'postgres', 'language': 'python', 'library': 'pandas'}"
            ]
          },
          "metadata": {},
          "execution_count": 49
        }
      ]
    },
    {
      "cell_type": "code",
      "source": [
        "job_type_skills['database']"
      ],
      "metadata": {
        "colab": {
          "base_uri": "https://localhost:8080/",
          "height": 36
        },
        "id": "364vzYUFDkdo",
        "outputId": "c0cbd572-3a04-4671-ecf8-299f4e6f8602"
      },
      "execution_count": null,
      "outputs": [
        {
          "output_type": "execute_result",
          "data": {
            "text/plain": [
              "'postgres'"
            ],
            "application/vnd.google.colaboratory.intrinsic+json": {
              "type": "string"
            }
          },
          "metadata": {},
          "execution_count": 50
        }
      ]
    },
    {
      "cell_type": "code",
      "source": [
        "job_type_skills.keys()"
      ],
      "metadata": {
        "colab": {
          "base_uri": "https://localhost:8080/"
        },
        "id": "rpis_FAIDppk",
        "outputId": "5adda6f9-0af1-47ff-99a9-7be5fa89271b"
      },
      "execution_count": null,
      "outputs": [
        {
          "output_type": "execute_result",
          "data": {
            "text/plain": [
              "dict_keys(['database', 'language', 'library'])"
            ]
          },
          "metadata": {},
          "execution_count": 51
        }
      ]
    },
    {
      "cell_type": "code",
      "source": [
        "job_type_skills.values()"
      ],
      "metadata": {
        "colab": {
          "base_uri": "https://localhost:8080/"
        },
        "id": "O-N3E_gbDv3P",
        "outputId": "3e2aeb2a-4d21-43df-e65c-617e122a351f"
      },
      "execution_count": null,
      "outputs": [
        {
          "output_type": "execute_result",
          "data": {
            "text/plain": [
              "dict_values(['postgres', 'python', 'pandas'])"
            ]
          },
          "metadata": {},
          "execution_count": 52
        }
      ]
    },
    {
      "cell_type": "code",
      "source": [
        "job_type_skills.pop('library')"
      ],
      "metadata": {
        "colab": {
          "base_uri": "https://localhost:8080/",
          "height": 36
        },
        "id": "OQ7R9q2gDKpd",
        "outputId": "8994a6d3-8842-4f3a-9488-9f22d6edc08b"
      },
      "execution_count": null,
      "outputs": [
        {
          "output_type": "execute_result",
          "data": {
            "text/plain": [
              "'pandas'"
            ],
            "application/vnd.google.colaboratory.intrinsic+json": {
              "type": "string"
            }
          },
          "metadata": {},
          "execution_count": 53
        }
      ]
    },
    {
      "cell_type": "code",
      "source": [
        "job_type_skills"
      ],
      "metadata": {
        "colab": {
          "base_uri": "https://localhost:8080/"
        },
        "id": "qDk7Qn-bDRkB",
        "outputId": "055c1f2e-c90f-4e44-aebc-80e2c04fb866"
      },
      "execution_count": null,
      "outputs": [
        {
          "output_type": "execute_result",
          "data": {
            "text/plain": [
              "{'database': 'postgres', 'language': 'python'}"
            ]
          },
          "metadata": {},
          "execution_count": 54
        }
      ]
    },
    {
      "cell_type": "code",
      "source": [
        "job_type_skills.update({'cloud':'google cloud'})"
      ],
      "metadata": {
        "id": "MgX7RonPELCf"
      },
      "execution_count": null,
      "outputs": []
    },
    {
      "cell_type": "code",
      "source": [
        "job_type_skills"
      ],
      "metadata": {
        "colab": {
          "base_uri": "https://localhost:8080/"
        },
        "id": "oCqA79jlEzyl",
        "outputId": "5ead4f46-a7c2-48c6-a06b-0065b0fe680a"
      },
      "execution_count": null,
      "outputs": [
        {
          "output_type": "execute_result",
          "data": {
            "text/plain": [
              "{'database': 'postgres', 'language': 'python', 'cloud': 'google cloud'}"
            ]
          },
          "metadata": {},
          "execution_count": 56
        }
      ]
    },
    {
      "cell_type": "code",
      "source": [
        "job_type_skills['version_control'] = 'git'"
      ],
      "metadata": {
        "id": "Wwge88leE1N1"
      },
      "execution_count": null,
      "outputs": []
    },
    {
      "cell_type": "code",
      "source": [
        "job_type_skills"
      ],
      "metadata": {
        "colab": {
          "base_uri": "https://localhost:8080/"
        },
        "id": "vlOkilFzFKWd",
        "outputId": "95468089-9157-4f37-cc12-0b362ad1e325"
      },
      "execution_count": null,
      "outputs": [
        {
          "output_type": "execute_result",
          "data": {
            "text/plain": [
              "{'database': 'postgres',\n",
              " 'language': 'python',\n",
              " 'cloud': 'google cloud',\n",
              " 'version_control': 'git'}"
            ]
          },
          "metadata": {},
          "execution_count": 58
        }
      ]
    },
    {
      "cell_type": "markdown",
      "source": [
        "# **Sets**"
      ],
      "metadata": {
        "id": "lUwbFGOOFrAI"
      }
    },
    {
      "cell_type": "code",
      "source": [
        "job_skills = {'sql', 'tableau', 'excel','statistics'}"
      ],
      "metadata": {
        "id": "SiHn6eYiFLD1"
      },
      "execution_count": null,
      "outputs": []
    },
    {
      "cell_type": "code",
      "source": [
        "job_skills"
      ],
      "metadata": {
        "colab": {
          "base_uri": "https://localhost:8080/"
        },
        "id": "gNW7yyrKF8Nc",
        "outputId": "a1603594-a274-46f3-f350-3789656c4ae3"
      },
      "execution_count": null,
      "outputs": [
        {
          "output_type": "execute_result",
          "data": {
            "text/plain": [
              "{'excel', 'sql', 'statistics', 'tableau'}"
            ]
          },
          "metadata": {},
          "execution_count": 60
        }
      ]
    },
    {
      "cell_type": "code",
      "source": [
        "type(job_skills)"
      ],
      "metadata": {
        "colab": {
          "base_uri": "https://localhost:8080/"
        },
        "id": "-eJTpVbMF-ZY",
        "outputId": "ce25d097-aec0-4a0f-a15a-4c0b624d4f1f"
      },
      "execution_count": null,
      "outputs": [
        {
          "output_type": "execute_result",
          "data": {
            "text/plain": [
              "set"
            ]
          },
          "metadata": {},
          "execution_count": 61
        }
      ]
    },
    {
      "cell_type": "code",
      "source": [
        "job_skills.add('looker')"
      ],
      "metadata": {
        "id": "Ev_M6pesGDpn"
      },
      "execution_count": null,
      "outputs": []
    },
    {
      "cell_type": "code",
      "source": [
        "job_skills"
      ],
      "metadata": {
        "colab": {
          "base_uri": "https://localhost:8080/"
        },
        "id": "DKezjdnzGyIm",
        "outputId": "9316d63c-c4f3-4e4d-efdc-8d7954c01c8e"
      },
      "execution_count": null,
      "outputs": [
        {
          "output_type": "execute_result",
          "data": {
            "text/plain": [
              "{'excel', 'looker', 'sql', 'statistics', 'tableau'}"
            ]
          },
          "metadata": {},
          "execution_count": 63
        }
      ]
    },
    {
      "cell_type": "code",
      "source": [
        "#Removes a randon value in sets\n",
        "job_skills.pop()"
      ],
      "metadata": {
        "colab": {
          "base_uri": "https://localhost:8080/",
          "height": 36
        },
        "id": "NgeuzonNGz7m",
        "outputId": "bfeb596c-4340-4838-ce8f-ad7d2352c600"
      },
      "execution_count": null,
      "outputs": [
        {
          "output_type": "execute_result",
          "data": {
            "text/plain": [
              "'looker'"
            ],
            "application/vnd.google.colaboratory.intrinsic+json": {
              "type": "string"
            }
          },
          "metadata": {},
          "execution_count": 64
        }
      ]
    },
    {
      "cell_type": "code",
      "source": [
        "#To remove a specific value\n",
        "job_skills.remove('excel')"
      ],
      "metadata": {
        "id": "BwkVfnToG95_"
      },
      "execution_count": null,
      "outputs": []
    },
    {
      "cell_type": "code",
      "source": [
        "job_skills"
      ],
      "metadata": {
        "colab": {
          "base_uri": "https://localhost:8080/"
        },
        "id": "TXYVwNKdHFZ8",
        "outputId": "41de7fc4-a57f-4baf-9cc9-276b89cb7831"
      },
      "execution_count": null,
      "outputs": [
        {
          "output_type": "execute_result",
          "data": {
            "text/plain": [
              "{'sql', 'statistics', 'tableau'}"
            ]
          },
          "metadata": {},
          "execution_count": 66
        }
      ]
    },
    {
      "cell_type": "code",
      "source": [
        "job_skills.add(1)\n",
        "job_skills\n"
      ],
      "metadata": {
        "colab": {
          "base_uri": "https://localhost:8080/"
        },
        "id": "viW0HPkPHHpX",
        "outputId": "885047ae-4c1a-4566-bfd2-f194495eda7d"
      },
      "execution_count": null,
      "outputs": [
        {
          "output_type": "execute_result",
          "data": {
            "text/plain": [
              "{1, 'sql', 'statistics', 'tableau'}"
            ]
          },
          "metadata": {},
          "execution_count": 67
        }
      ]
    },
    {
      "cell_type": "code",
      "source": [
        "job_skills.remove(1)"
      ],
      "metadata": {
        "id": "EJ_xbTlzHXoc"
      },
      "execution_count": null,
      "outputs": []
    },
    {
      "cell_type": "code",
      "source": [
        "job_skills"
      ],
      "metadata": {
        "colab": {
          "base_uri": "https://localhost:8080/"
        },
        "id": "sXePOBqAHiSN",
        "outputId": "4fb208bf-7438-43f4-ccf8-41adee33ccc0"
      },
      "execution_count": null,
      "outputs": [
        {
          "output_type": "execute_result",
          "data": {
            "text/plain": [
              "{'sql', 'statistics', 'tableau'}"
            ]
          },
          "metadata": {},
          "execution_count": 69
        }
      ]
    },
    {
      "cell_type": "markdown",
      "source": [
        "# **Converting List to Set**"
      ],
      "metadata": {
        "id": "Pv9-KSZLI6GU"
      }
    },
    {
      "cell_type": "code",
      "source": [
        "#List\n",
        "job_list = ['python', 'sql', 'tableau', 'excel', 'statistics','python', 'sql', 'tableau', 'excel', 'statistics']"
      ],
      "metadata": {
        "id": "wxYiarKLHjKF"
      },
      "execution_count": null,
      "outputs": []
    },
    {
      "cell_type": "code",
      "source": [
        "#Concert it to a Set\n",
        "set(job_list)"
      ],
      "metadata": {
        "colab": {
          "base_uri": "https://localhost:8080/"
        },
        "id": "_j_JJ6hwJT23",
        "outputId": "31d374f7-f766-4270-f533-6818346a7d93"
      },
      "execution_count": null,
      "outputs": [
        {
          "output_type": "execute_result",
          "data": {
            "text/plain": [
              "{'excel', 'python', 'sql', 'statistics', 'tableau'}"
            ]
          },
          "metadata": {},
          "execution_count": 71
        }
      ]
    },
    {
      "cell_type": "code",
      "source": [
        "job_list"
      ],
      "metadata": {
        "colab": {
          "base_uri": "https://localhost:8080/"
        },
        "id": "BpUZjHiBJZQk",
        "outputId": "a5265896-84dd-489e-ee4b-076ef6a9c07f"
      },
      "execution_count": null,
      "outputs": [
        {
          "output_type": "execute_result",
          "data": {
            "text/plain": [
              "['python',\n",
              " 'sql',\n",
              " 'tableau',\n",
              " 'excel',\n",
              " 'statistics',\n",
              " 'python',\n",
              " 'sql',\n",
              " 'tableau',\n",
              " 'excel',\n",
              " 'statistics']"
            ]
          },
          "metadata": {},
          "execution_count": 72
        }
      ]
    },
    {
      "cell_type": "code",
      "source": [
        "type(job_list)"
      ],
      "metadata": {
        "colab": {
          "base_uri": "https://localhost:8080/"
        },
        "id": "5fZ9O2uBJbQv",
        "outputId": "d9782ac3-dbaa-4641-d2d0-ce596747a8de"
      },
      "execution_count": null,
      "outputs": [
        {
          "output_type": "execute_result",
          "data": {
            "text/plain": [
              "list"
            ]
          },
          "metadata": {},
          "execution_count": 73
        }
      ]
    },
    {
      "cell_type": "code",
      "source": [
        "#back to a List\n",
        "list(set(job_list))"
      ],
      "metadata": {
        "colab": {
          "base_uri": "https://localhost:8080/"
        },
        "id": "6a3y-4oxJeKM",
        "outputId": "79517c97-265e-49ce-a3e2-de18a29c9aca"
      },
      "execution_count": null,
      "outputs": [
        {
          "output_type": "execute_result",
          "data": {
            "text/plain": [
              "['statistics', 'excel', 'sql', 'python', 'tableau']"
            ]
          },
          "metadata": {},
          "execution_count": 74
        }
      ]
    },
    {
      "cell_type": "markdown",
      "source": [
        "# **Tuple**"
      ],
      "metadata": {
        "id": "eN-6VVW6KWCb"
      }
    },
    {
      "cell_type": "code",
      "source": [
        "luke_skill = ('python', 'tableau', 'sql','statistics')\n",
        "luke_skill"
      ],
      "metadata": {
        "colab": {
          "base_uri": "https://localhost:8080/"
        },
        "id": "S3_8V7kFJvcs",
        "outputId": "84099272-e4b2-40c8-9fa9-84b00e999f7b"
      },
      "execution_count": null,
      "outputs": [
        {
          "output_type": "execute_result",
          "data": {
            "text/plain": [
              "('python', 'tableau', 'sql', 'statistics')"
            ]
          },
          "metadata": {},
          "execution_count": 75
        }
      ]
    },
    {
      "cell_type": "code",
      "source": [
        "type(luke_skill)"
      ],
      "metadata": {
        "colab": {
          "base_uri": "https://localhost:8080/"
        },
        "id": "fopbfIRlKojC",
        "outputId": "45847b6d-8394-4ff6-ceac-133be16247ab"
      },
      "execution_count": null,
      "outputs": [
        {
          "output_type": "execute_result",
          "data": {
            "text/plain": [
              "tuple"
            ]
          },
          "metadata": {},
          "execution_count": 76
        }
      ]
    },
    {
      "cell_type": "code",
      "source": [
        "luke_skill[-2:]"
      ],
      "metadata": {
        "colab": {
          "base_uri": "https://localhost:8080/"
        },
        "id": "i7TZvL8sKske",
        "outputId": "3cdb2517-8ecd-4a77-eefd-6b31e343d021"
      },
      "execution_count": null,
      "outputs": [
        {
          "output_type": "execute_result",
          "data": {
            "text/plain": [
              "('sql', 'statistics')"
            ]
          },
          "metadata": {},
          "execution_count": 77
        }
      ]
    },
    {
      "cell_type": "code",
      "source": [
        "luke_skill = ('python', 'tableau', 'sql','statistics')\n",
        "print(id(luke_skill))\n",
        "\n",
        "new_skill = ('excel','power bi')\n",
        "luke_skill += new_skill\n",
        "\n",
        "luke_skill\n",
        "id(luke_skill)"
      ],
      "metadata": {
        "colab": {
          "base_uri": "https://localhost:8080/"
        },
        "id": "lkK4pA_QK3Yd",
        "outputId": "e523d66c-e177-4c84-d305-d1318b8a3b85"
      },
      "execution_count": null,
      "outputs": [
        {
          "output_type": "stream",
          "name": "stdout",
          "text": [
            "139710168260320\n"
          ]
        },
        {
          "output_type": "execute_result",
          "data": {
            "text/plain": [
              "139710173160896"
            ]
          },
          "metadata": {},
          "execution_count": 78
        }
      ]
    },
    {
      "cell_type": "markdown",
      "source": [
        "# **Range**"
      ],
      "metadata": {
        "id": "n1h2O7WvMcBb"
      }
    },
    {
      "cell_type": "code",
      "source": [
        "range(5)"
      ],
      "metadata": {
        "colab": {
          "base_uri": "https://localhost:8080/"
        },
        "id": "yF_BaYeRL0Dl",
        "outputId": "b2ac2ec4-53c6-41a4-fab8-8b4284e7e1ea"
      },
      "execution_count": null,
      "outputs": [
        {
          "output_type": "execute_result",
          "data": {
            "text/plain": [
              "range(0, 5)"
            ]
          },
          "metadata": {},
          "execution_count": 79
        }
      ]
    },
    {
      "cell_type": "code",
      "source": [
        "tuple(range(5))"
      ],
      "metadata": {
        "colab": {
          "base_uri": "https://localhost:8080/"
        },
        "id": "5g1bGIrDMgkU",
        "outputId": "99dbfabb-2a93-4907-a788-3a0cc58076af"
      },
      "execution_count": null,
      "outputs": [
        {
          "output_type": "execute_result",
          "data": {
            "text/plain": [
              "(0, 1, 2, 3, 4)"
            ]
          },
          "metadata": {},
          "execution_count": 80
        }
      ]
    },
    {
      "cell_type": "code",
      "source": [
        "# Gives Even numbers between 0 to 100\n",
        "tuple(range(0,100,2))"
      ],
      "metadata": {
        "colab": {
          "base_uri": "https://localhost:8080/"
        },
        "id": "4kOwNrKNMlu8",
        "outputId": "cc763420-5848-4c8e-969b-dbe5d36bef66"
      },
      "execution_count": null,
      "outputs": [
        {
          "output_type": "execute_result",
          "data": {
            "text/plain": [
              "(0,\n",
              " 2,\n",
              " 4,\n",
              " 6,\n",
              " 8,\n",
              " 10,\n",
              " 12,\n",
              " 14,\n",
              " 16,\n",
              " 18,\n",
              " 20,\n",
              " 22,\n",
              " 24,\n",
              " 26,\n",
              " 28,\n",
              " 30,\n",
              " 32,\n",
              " 34,\n",
              " 36,\n",
              " 38,\n",
              " 40,\n",
              " 42,\n",
              " 44,\n",
              " 46,\n",
              " 48,\n",
              " 50,\n",
              " 52,\n",
              " 54,\n",
              " 56,\n",
              " 58,\n",
              " 60,\n",
              " 62,\n",
              " 64,\n",
              " 66,\n",
              " 68,\n",
              " 70,\n",
              " 72,\n",
              " 74,\n",
              " 76,\n",
              " 78,\n",
              " 80,\n",
              " 82,\n",
              " 84,\n",
              " 86,\n",
              " 88,\n",
              " 90,\n",
              " 92,\n",
              " 94,\n",
              " 96,\n",
              " 98)"
            ]
          },
          "metadata": {},
          "execution_count": 81
        }
      ]
    },
    {
      "cell_type": "markdown",
      "source": [
        "# **Logical Operators**"
      ],
      "metadata": {
        "id": "ksrqsM_qQT5O"
      }
    },
    {
      "cell_type": "code",
      "source": [
        "job_work_from_home = True\n",
        "job_heatth_insurance = True\n",
        "\n",
        "job_work_from_home and job_heatth_insurance"
      ],
      "metadata": {
        "colab": {
          "base_uri": "https://localhost:8080/"
        },
        "id": "u8X-aCRtMtOs",
        "outputId": "91c6db3f-6f71-45ca-92dc-b8e14b19c20c"
      },
      "execution_count": null,
      "outputs": [
        {
          "output_type": "execute_result",
          "data": {
            "text/plain": [
              "True"
            ]
          },
          "metadata": {},
          "execution_count": 82
        }
      ]
    },
    {
      "cell_type": "code",
      "source": [
        "job_work_from_home = True\n",
        "job_heatth_insurance = False\n",
        "\n",
        "job_work_from_home and job_heatth_insurance"
      ],
      "metadata": {
        "colab": {
          "base_uri": "https://localhost:8080/"
        },
        "id": "7ihbCzWkQpNo",
        "outputId": "a773efd0-d97d-48d0-b6f6-efeb04b7e4cf"
      },
      "execution_count": null,
      "outputs": [
        {
          "output_type": "execute_result",
          "data": {
            "text/plain": [
              "False"
            ]
          },
          "metadata": {},
          "execution_count": 83
        }
      ]
    },
    {
      "cell_type": "code",
      "source": [
        "job_work_from_home = True\n",
        "job_heatth_insurance = True\n",
        "job_no_degree_mention = True\n",
        "\n",
        "job_work_from_home and job_heatth_insurance and job_no_degree_mention"
      ],
      "metadata": {
        "colab": {
          "base_uri": "https://localhost:8080/"
        },
        "id": "rhPRYdSdQse1",
        "outputId": "90aba472-035c-42ad-9bd0-95dce56670f0"
      },
      "execution_count": null,
      "outputs": [
        {
          "output_type": "execute_result",
          "data": {
            "text/plain": [
              "True"
            ]
          },
          "metadata": {},
          "execution_count": 84
        }
      ]
    },
    {
      "cell_type": "code",
      "source": [
        "job_work_from_home = True\n",
        "job_heatth_insurance = False\n",
        "job_no_degree_mention = True\n",
        "\n",
        "job_work_from_home and job_heatth_insurance and job_no_degree_mention"
      ],
      "metadata": {
        "colab": {
          "base_uri": "https://localhost:8080/"
        },
        "id": "gp2sZuDBQ5zV",
        "outputId": "f153aa5d-b87f-4dee-d686-5c46b73fc512"
      },
      "execution_count": null,
      "outputs": [
        {
          "output_type": "execute_result",
          "data": {
            "text/plain": [
              "False"
            ]
          },
          "metadata": {},
          "execution_count": 85
        }
      ]
    },
    {
      "cell_type": "code",
      "source": [
        "job_work_from_home = True\n",
        "job_heatth_insurance = False\n",
        "# job_no_degree_mention = True\n",
        "\n",
        "job_work_from_home or job_heatth_insurance"
      ],
      "metadata": {
        "colab": {
          "base_uri": "https://localhost:8080/"
        },
        "id": "35eGyjI7Q9UV",
        "outputId": "0d76104d-16a5-4aa5-a48d-84934a90f40e"
      },
      "execution_count": null,
      "outputs": [
        {
          "output_type": "execute_result",
          "data": {
            "text/plain": [
              "True"
            ]
          },
          "metadata": {},
          "execution_count": 86
        }
      ]
    },
    {
      "cell_type": "code",
      "source": [
        "job_work_from_home = False\n",
        "job_heatth_insurance = False\n",
        "# job_no_degree_mention = True\n",
        "\n",
        "job_work_from_home or job_heatth_insurance"
      ],
      "metadata": {
        "colab": {
          "base_uri": "https://localhost:8080/"
        },
        "id": "TOj-5cieRI_d",
        "outputId": "be30870d-ecbb-48fc-9017-c66d2fc38573"
      },
      "execution_count": null,
      "outputs": [
        {
          "output_type": "execute_result",
          "data": {
            "text/plain": [
              "False"
            ]
          },
          "metadata": {},
          "execution_count": 87
        }
      ]
    },
    {
      "cell_type": "code",
      "source": [
        "job_work_from_home = True\n",
        "job_heatth_insurance = False\n",
        "job_no_degree_mention = True\n",
        "\n",
        "job_work_from_home or job_heatth_insurance or job_no_degree_mention"
      ],
      "metadata": {
        "colab": {
          "base_uri": "https://localhost:8080/"
        },
        "id": "TS2JgFEwRRkG",
        "outputId": "b67a589c-b08c-40b3-b4ce-1963fe1ebeb3"
      },
      "execution_count": null,
      "outputs": [
        {
          "output_type": "execute_result",
          "data": {
            "text/plain": [
              "True"
            ]
          },
          "metadata": {},
          "execution_count": 88
        }
      ]
    },
    {
      "cell_type": "code",
      "source": [
        "job_work_from_home = True\n",
        "job_heatth_insurance = False\n",
        "job_no_degree_mention = False\n",
        "\n",
        "job_work_from_home or job_heatth_insurance or not job_no_degree_mention"
      ],
      "metadata": {
        "colab": {
          "base_uri": "https://localhost:8080/"
        },
        "id": "CSh92WVQSXFV",
        "outputId": "991f22a6-c870-45eb-bbb2-b8b74eed9039"
      },
      "execution_count": null,
      "outputs": [
        {
          "output_type": "execute_result",
          "data": {
            "text/plain": [
              "True"
            ]
          },
          "metadata": {},
          "execution_count": 89
        }
      ]
    },
    {
      "cell_type": "markdown",
      "source": [
        "# **Membership**"
      ],
      "metadata": {
        "id": "x-9a5WmRSnnk"
      }
    },
    {
      "cell_type": "code",
      "source": [
        "job_skills = {'sql', 'tableau', 'excel','statistics'}"
      ],
      "metadata": {
        "id": "BaIRZ2LQSaT0"
      },
      "execution_count": null,
      "outputs": []
    },
    {
      "cell_type": "code",
      "source": [
        "'sql' in job_skills"
      ],
      "metadata": {
        "colab": {
          "base_uri": "https://localhost:8080/"
        },
        "id": "xwaEjkDoTBxS",
        "outputId": "a263ea92-2195-4b94-e543-f63c0f806353"
      },
      "execution_count": null,
      "outputs": [
        {
          "output_type": "execute_result",
          "data": {
            "text/plain": [
              "True"
            ]
          },
          "metadata": {},
          "execution_count": 91
        }
      ]
    },
    {
      "cell_type": "code",
      "source": [
        "'sql' not in job_skills"
      ],
      "metadata": {
        "colab": {
          "base_uri": "https://localhost:8080/"
        },
        "id": "eEIWKFJXTDu9",
        "outputId": "86018440-d6b1-4da5-d103-5a9cad1d407b"
      },
      "execution_count": null,
      "outputs": [
        {
          "output_type": "execute_result",
          "data": {
            "text/plain": [
              "False"
            ]
          },
          "metadata": {},
          "execution_count": 92
        }
      ]
    },
    {
      "cell_type": "markdown",
      "source": [
        "# **Identity**"
      ],
      "metadata": {
        "id": "gKq7hdxGUS2-"
      }
    },
    {
      "cell_type": "code",
      "source": [
        "core_skills = {'sql', 'tableau', 'excel','statistics'}\n",
        "luke_skill= core_skills"
      ],
      "metadata": {
        "id": "GJlQBGTcTJOk"
      },
      "execution_count": null,
      "outputs": []
    },
    {
      "cell_type": "code",
      "source": [
        "luke_skill is core_skills"
      ],
      "metadata": {
        "colab": {
          "base_uri": "https://localhost:8080/"
        },
        "id": "Zj0IhyTnUjNy",
        "outputId": "097279fd-03fd-4763-c472-7ebdecb30600"
      },
      "execution_count": null,
      "outputs": [
        {
          "output_type": "execute_result",
          "data": {
            "text/plain": [
              "True"
            ]
          },
          "metadata": {},
          "execution_count": 94
        }
      ]
    },
    {
      "cell_type": "code",
      "source": [
        "luke_skill is not core_skills"
      ],
      "metadata": {
        "colab": {
          "base_uri": "https://localhost:8080/"
        },
        "id": "04QyvSnGUmtM",
        "outputId": "4d7fc7c7-1bc3-40ec-a73e-98c6be63780f"
      },
      "execution_count": null,
      "outputs": [
        {
          "output_type": "execute_result",
          "data": {
            "text/plain": [
              "False"
            ]
          },
          "metadata": {},
          "execution_count": 95
        }
      ]
    },
    {
      "cell_type": "markdown",
      "source": [
        "## **Loops**"
      ],
      "metadata": {
        "id": "qpT5uRZQUu8Z"
      }
    },
    {
      "cell_type": "code",
      "source": [
        "job_list = ['data analyst','data scientist','machine learning engineer', 'data engineer', 'big data engineer','data analyst' ]"
      ],
      "metadata": {
        "id": "s0Mb4jAeUqST"
      },
      "execution_count": null,
      "outputs": []
    },
    {
      "cell_type": "code",
      "source": [
        "analyts_list = []\n",
        "for job in job_list:\n",
        "    if job in 'data analyst':\n",
        "        analyts_list.append(job)\n"
      ],
      "metadata": {
        "id": "0PeT9rUVcjHy"
      },
      "execution_count": null,
      "outputs": []
    },
    {
      "cell_type": "code",
      "source": [
        "analyts_list"
      ],
      "metadata": {
        "colab": {
          "base_uri": "https://localhost:8080/"
        },
        "id": "c8dY0r85c89b",
        "outputId": "0ccef5d5-8cf9-41f3-914c-6759a3425ff6"
      },
      "execution_count": null,
      "outputs": [
        {
          "output_type": "execute_result",
          "data": {
            "text/plain": [
              "['data analyst', 'data analyst']"
            ]
          },
          "metadata": {},
          "execution_count": 98
        }
      ]
    },
    {
      "cell_type": "code",
      "source": [
        "number = [0,1,2,3,4,5]\n",
        "for number in number:\n",
        "  print(number)"
      ],
      "metadata": {
        "id": "fHsFS0LKc-xT",
        "colab": {
          "base_uri": "https://localhost:8080/"
        },
        "outputId": "bd2e0c13-0885-49dd-b444-8d12e3feb8a5"
      },
      "execution_count": null,
      "outputs": [
        {
          "output_type": "stream",
          "name": "stdout",
          "text": [
            "0\n",
            "1\n",
            "2\n",
            "3\n",
            "4\n",
            "5\n"
          ]
        }
      ]
    },
    {
      "cell_type": "code",
      "source": [
        "import random\n",
        "\n",
        "names = [\n",
        "    \"Alice\", \"Bob\", \"Charlie\", \"David\", \"Eve\", \"Frank\", \"Grace\", \"Hannah\", \"Ivy\", \"Jack\",\n",
        "    \"Karen\", \"Leo\", \"Mona\", \"Nina\", \"Oscar\", \"Paul\", \"Quinn\", \"Rachel\", \"Sam\", \"Tina\",\n",
        "    \"Uma\", \"Victor\", \"Wendy\", \"Xander\", \"Yara\", \"Zane\", \"Aaron\", \"Bella\", \"Cody\", \"Diana\"\n",
        "]\n",
        "\n",
        "year_experience = {name: random.randint(1, 40) for name in names}\n",
        "\n",
        "print(year_experience)\n"
      ],
      "metadata": {
        "colab": {
          "base_uri": "https://localhost:8080/"
        },
        "id": "Bn6zHzhf4bJs",
        "outputId": "394ba0e0-30d2-4b54-a69b-cba0b268295c"
      },
      "execution_count": null,
      "outputs": [
        {
          "output_type": "stream",
          "name": "stdout",
          "text": [
            "{'Alice': 36, 'Bob': 2, 'Charlie': 40, 'David': 27, 'Eve': 36, 'Frank': 12, 'Grace': 37, 'Hannah': 14, 'Ivy': 3, 'Jack': 40, 'Karen': 7, 'Leo': 29, 'Mona': 39, 'Nina': 28, 'Oscar': 37, 'Paul': 25, 'Quinn': 28, 'Rachel': 14, 'Sam': 15, 'Tina': 36, 'Uma': 36, 'Victor': 29, 'Wendy': 12, 'Xander': 23, 'Yara': 17, 'Zane': 37, 'Aaron': 26, 'Bella': 4, 'Cody': 5, 'Diana': 26}\n"
          ]
        }
      ]
    },
    {
      "cell_type": "code",
      "source": [
        "for person in year_experience:\n",
        "    print(person)"
      ],
      "metadata": {
        "colab": {
          "base_uri": "https://localhost:8080/"
        },
        "id": "O0V1QvxV5_xy",
        "outputId": "768ce0cb-c1cd-4644-ddf4-bd9bc45020e5"
      },
      "execution_count": null,
      "outputs": [
        {
          "output_type": "stream",
          "name": "stdout",
          "text": [
            "Alice\n",
            "Bob\n",
            "Charlie\n",
            "David\n",
            "Eve\n",
            "Frank\n",
            "Grace\n",
            "Hannah\n",
            "Ivy\n",
            "Jack\n",
            "Karen\n",
            "Leo\n",
            "Mona\n",
            "Nina\n",
            "Oscar\n",
            "Paul\n",
            "Quinn\n",
            "Rachel\n",
            "Sam\n",
            "Tina\n",
            "Uma\n",
            "Victor\n",
            "Wendy\n",
            "Xander\n",
            "Yara\n",
            "Zane\n",
            "Aaron\n",
            "Bella\n",
            "Cody\n",
            "Diana\n"
          ]
        }
      ]
    },
    {
      "cell_type": "code",
      "source": [
        "for value in year_experience.values():\n",
        "    print(value)"
      ],
      "metadata": {
        "colab": {
          "base_uri": "https://localhost:8080/"
        },
        "id": "LPu2y-hI6LKT",
        "outputId": "50e34264-79a8-4d3d-d2a4-acf4401a539f"
      },
      "execution_count": null,
      "outputs": [
        {
          "output_type": "stream",
          "name": "stdout",
          "text": [
            "36\n",
            "2\n",
            "40\n",
            "27\n",
            "36\n",
            "12\n",
            "37\n",
            "14\n",
            "3\n",
            "40\n",
            "7\n",
            "29\n",
            "39\n",
            "28\n",
            "37\n",
            "25\n",
            "28\n",
            "14\n",
            "15\n",
            "36\n",
            "36\n",
            "29\n",
            "12\n",
            "23\n",
            "17\n",
            "37\n",
            "26\n",
            "4\n",
            "5\n",
            "26\n"
          ]
        }
      ]
    },
    {
      "cell_type": "code",
      "source": [
        "for key,value in year_experience.items():\n",
        "    print(key, value)"
      ],
      "metadata": {
        "colab": {
          "base_uri": "https://localhost:8080/"
        },
        "id": "4yzT7jnF6P8W",
        "outputId": "07a92c35-5e4b-4c9b-e1e8-4ba31ba822fc"
      },
      "execution_count": null,
      "outputs": [
        {
          "output_type": "stream",
          "name": "stdout",
          "text": [
            "Alice 36\n",
            "Bob 2\n",
            "Charlie 40\n",
            "David 27\n",
            "Eve 36\n",
            "Frank 12\n",
            "Grace 37\n",
            "Hannah 14\n",
            "Ivy 3\n",
            "Jack 40\n",
            "Karen 7\n",
            "Leo 29\n",
            "Mona 39\n",
            "Nina 28\n",
            "Oscar 37\n",
            "Paul 25\n",
            "Quinn 28\n",
            "Rachel 14\n",
            "Sam 15\n",
            "Tina 36\n",
            "Uma 36\n",
            "Victor 29\n",
            "Wendy 12\n",
            "Xander 23\n",
            "Yara 17\n",
            "Zane 37\n",
            "Aaron 26\n",
            "Bella 4\n",
            "Cody 5\n",
            "Diana 26\n"
          ]
        }
      ]
    },
    {
      "cell_type": "code",
      "source": [
        "for key,value in year_experience.items():\n",
        "    if value > 30:\n",
        "        print(key, 'has', value, 'years of experience')"
      ],
      "metadata": {
        "colab": {
          "base_uri": "https://localhost:8080/"
        },
        "id": "t7DZuhUL6dBH",
        "outputId": "ab44c57c-aae4-4802-a7bd-2c271e5b27fc"
      },
      "execution_count": null,
      "outputs": [
        {
          "output_type": "stream",
          "name": "stdout",
          "text": [
            "Alice has 36 years of experience\n",
            "Charlie has 40 years of experience\n",
            "Eve has 36 years of experience\n",
            "Grace has 37 years of experience\n",
            "Jack has 40 years of experience\n",
            "Mona has 39 years of experience\n",
            "Oscar has 37 years of experience\n",
            "Tina has 36 years of experience\n",
            "Uma has 36 years of experience\n",
            "Zane has 37 years of experience\n"
          ]
        }
      ]
    },
    {
      "cell_type": "code",
      "source": [
        "for x in range(10):\n",
        "    print(x)"
      ],
      "metadata": {
        "colab": {
          "base_uri": "https://localhost:8080/"
        },
        "id": "uMrmj0Kh6rL_",
        "outputId": "575d7938-8918-4449-cce9-274b67c28085"
      },
      "execution_count": null,
      "outputs": [
        {
          "output_type": "stream",
          "name": "stdout",
          "text": [
            "0\n",
            "1\n",
            "2\n",
            "3\n",
            "4\n",
            "5\n",
            "6\n",
            "7\n",
            "8\n",
            "9\n"
          ]
        }
      ]
    },
    {
      "cell_type": "code",
      "source": [
        "count = 1\n",
        "while count < 5 :\n",
        "    print(count)\n",
        "    count += 1"
      ],
      "metadata": {
        "colab": {
          "base_uri": "https://localhost:8080/"
        },
        "id": "Mr8uKTVy7MpU",
        "outputId": "a3253a73-994d-4696-d1c6-7bb704c099c7"
      },
      "execution_count": null,
      "outputs": [
        {
          "output_type": "stream",
          "name": "stdout",
          "text": [
            "1\n",
            "2\n",
            "3\n",
            "4\n"
          ]
        }
      ]
    },
    {
      "cell_type": "code",
      "source": [
        "year_experience"
      ],
      "metadata": {
        "colab": {
          "base_uri": "https://localhost:8080/"
        },
        "id": "3f2VpLzNHhE7",
        "outputId": "852cd4af-00cc-4f4b-a89c-fdaeae9811f3"
      },
      "execution_count": null,
      "outputs": [
        {
          "output_type": "execute_result",
          "data": {
            "text/plain": [
              "{'Alice': 36,\n",
              " 'Bob': 2,\n",
              " 'Charlie': 40,\n",
              " 'David': 27,\n",
              " 'Eve': 36,\n",
              " 'Frank': 12,\n",
              " 'Grace': 37,\n",
              " 'Hannah': 14,\n",
              " 'Ivy': 3,\n",
              " 'Jack': 40,\n",
              " 'Karen': 7,\n",
              " 'Leo': 29,\n",
              " 'Mona': 39,\n",
              " 'Nina': 28,\n",
              " 'Oscar': 37,\n",
              " 'Paul': 25,\n",
              " 'Quinn': 28,\n",
              " 'Rachel': 14,\n",
              " 'Sam': 15,\n",
              " 'Tina': 36,\n",
              " 'Uma': 36,\n",
              " 'Victor': 29,\n",
              " 'Wendy': 12,\n",
              " 'Xander': 23,\n",
              " 'Yara': 17,\n",
              " 'Zane': 37,\n",
              " 'Aaron': 26,\n",
              " 'Bella': 4,\n",
              " 'Cody': 5,\n",
              " 'Diana': 26}"
            ]
          },
          "metadata": {},
          "execution_count": 107
        }
      ]
    },
    {
      "cell_type": "code",
      "source": [
        "years_list = list(year_experience.items())\n",
        "years_list"
      ],
      "metadata": {
        "colab": {
          "base_uri": "https://localhost:8080/"
        },
        "id": "Y9NNNf2QJuw2",
        "outputId": "7ec935b2-8d93-4b7b-af22-51e88fb8bb2a"
      },
      "execution_count": null,
      "outputs": [
        {
          "output_type": "execute_result",
          "data": {
            "text/plain": [
              "[('Alice', 36),\n",
              " ('Bob', 2),\n",
              " ('Charlie', 40),\n",
              " ('David', 27),\n",
              " ('Eve', 36),\n",
              " ('Frank', 12),\n",
              " ('Grace', 37),\n",
              " ('Hannah', 14),\n",
              " ('Ivy', 3),\n",
              " ('Jack', 40),\n",
              " ('Karen', 7),\n",
              " ('Leo', 29),\n",
              " ('Mona', 39),\n",
              " ('Nina', 28),\n",
              " ('Oscar', 37),\n",
              " ('Paul', 25),\n",
              " ('Quinn', 28),\n",
              " ('Rachel', 14),\n",
              " ('Sam', 15),\n",
              " ('Tina', 36),\n",
              " ('Uma', 36),\n",
              " ('Victor', 29),\n",
              " ('Wendy', 12),\n",
              " ('Xander', 23),\n",
              " ('Yara', 17),\n",
              " ('Zane', 37),\n",
              " ('Aaron', 26),\n",
              " ('Bella', 4),\n",
              " ('Cody', 5),\n",
              " ('Diana', 26)]"
            ]
          },
          "metadata": {},
          "execution_count": 108
        }
      ]
    },
    {
      "cell_type": "code",
      "source": [
        "years_exp = {\n",
        "  'luke': 3,\n",
        "  'kelly': 6,\n",
        "  'ken': 4,\n",
        "  'alex': 3,\n",
        "  'marry': 7,\n",
        "}\n",
        "years_exp"
      ],
      "metadata": {
        "colab": {
          "base_uri": "https://localhost:8080/"
        },
        "id": "6im85jf1LMqx",
        "outputId": "18b29a2c-21a3-4035-dd48-3c5298561528"
      },
      "execution_count": null,
      "outputs": [
        {
          "output_type": "execute_result",
          "data": {
            "text/plain": [
              "{'luke': 3, 'kelly': 6, 'ken': 4, 'alex': 3, 'marry': 7}"
            ]
          },
          "metadata": {},
          "execution_count": 109
        }
      ]
    },
    {
      "cell_type": "code",
      "source": [
        "years_list = list(years_exp.items())\n",
        "years_list"
      ],
      "metadata": {
        "colab": {
          "base_uri": "https://localhost:8080/"
        },
        "id": "KcL6n7S7MtHL",
        "outputId": "bba96beb-aa9d-4a40-9a20-1c6390f0ddcc"
      },
      "execution_count": null,
      "outputs": [
        {
          "output_type": "execute_result",
          "data": {
            "text/plain": [
              "[('luke', 3), ('kelly', 6), ('ken', 4), ('alex', 3), ('marry', 7)]"
            ]
          },
          "metadata": {},
          "execution_count": 110
        }
      ]
    },
    {
      "cell_type": "code",
      "source": [
        "year = 0\n",
        "index = 0\n",
        "\n",
        "year_lst = list(years_exp.items())\n",
        "\n",
        "while year < 5:\n",
        "  key, year = year_lst[index]\n",
        "\n",
        "if year >= 5:\n",
        "  print(key, year)\n",
        "  index += 1"
      ],
      "metadata": {
        "id": "0lAtrQBeInbC"
      },
      "execution_count": null,
      "outputs": []
    },
    {
      "cell_type": "markdown",
      "source": [
        "# **List Comprehension**"
      ],
      "metadata": {
        "id": "z9HyJZ4CYTaG"
      }
    },
    {
      "cell_type": "code",
      "source": [
        "numbers = [x for x in range(11)]\n",
        "numbers"
      ],
      "metadata": {
        "id": "jtLlOL6vKPJ1"
      },
      "execution_count": null,
      "outputs": []
    },
    {
      "cell_type": "code",
      "source": [
        "#Without comprehension\n",
        "numbers =[]\n",
        "for number in range(11):\n",
        "  numbers.append(number)\n",
        "numbers"
      ],
      "metadata": {
        "id": "NyDKWxlOYk-w"
      },
      "execution_count": null,
      "outputs": []
    },
    {
      "cell_type": "code",
      "source": [
        "numbers = [x*2 for x in range(11)]\n",
        "numbers"
      ],
      "metadata": {
        "id": "b7UcnoGPY-qF"
      },
      "execution_count": null,
      "outputs": []
    },
    {
      "cell_type": "code",
      "source": [
        "numbers = [float(x) for x in range(11)]\n",
        "numbers"
      ],
      "metadata": {
        "id": "W43aWXDDZzZH"
      },
      "execution_count": null,
      "outputs": []
    },
    {
      "cell_type": "code",
      "source": [
        "analyts_list = []\n",
        "for job in job_list:\n",
        "    if job in 'data analyst':\n",
        "        analyts_list.append(job)\n",
        "\n",
        "analyts_list"
      ],
      "metadata": {
        "id": "rNffd6M1Z3qT"
      },
      "execution_count": null,
      "outputs": []
    },
    {
      "cell_type": "code",
      "source": [
        "analyts_list = [job for job in job_list if job in 'data analyst']\n",
        "analyts_list"
      ],
      "metadata": {
        "id": "FI-MsX5Ra4f6"
      },
      "execution_count": null,
      "outputs": []
    },
    {
      "cell_type": "markdown",
      "source": [
        "Exercise Basic"
      ],
      "metadata": {
        "id": "AQVjJ_xPhYpt"
      }
    },
    {
      "cell_type": "code",
      "source": [
        "# Define data science job roles and required skills\n",
        "job_roles = [\n",
        "    {'role': 'Data Analyst', 'skills': ['Python', 'SQL', 'Excel']},\n",
        "    {'role': 'Data Scientist', 'skills': ['Python', 'R', 'Machine Learning', 'Deep Learning']},\n",
        "    {'role': 'Machine Learning Engineer', 'skills': ['Python', 'TensorFlow', 'PyTorch', 'Scikit-Learn']},\n",
        "    {'role': 'Data Engineer', 'skills': ['Python', 'Apache Spark', 'Hadoop', 'SQL']},\n",
        "    {'role': 'Business Intelligence Analyst', 'skills': ['Python', 'SQL', 'Tableau', 'Power BI', 'Excel']},\n",
        "    {'role': 'Quantitative Analyst', 'skills': ['R', 'Python', 'MATLAB', 'Statistics']},\n",
        "    {'role': 'Operations Analyst', 'skills': ['Python', 'SQL', 'Data Visualization', 'Process Improvement']},\n",
        "    {'role': 'Database Administrator', 'skills': ['SQL', 'Oracle', 'MySQL', 'Database Management']},\n",
        "    {'role': 'AI Engineer', 'skills': ['Python', 'TensorFlow', 'PyTorch', 'Computer Vision']},\n",
        "    {'role': 'Statistician', 'skills': ['R', 'SAS', 'Python', 'Statistical Modeling']}\n",
        "]\n",
        "# My skills\n",
        "my_skills = ['Python', 'SQL', 'Excel']"
      ],
      "metadata": {
        "id": "0epGuRLkcBqA"
      },
      "execution_count": null,
      "outputs": []
    },
    {
      "cell_type": "code",
      "source": [
        "#1 loop through the skills\n",
        "for job in job_roles:\n",
        "  print(job['skills'])"
      ],
      "metadata": {
        "id": "fp7LPNirxHsc"
      },
      "execution_count": null,
      "outputs": []
    },
    {
      "cell_type": "code",
      "source": [
        "qualified_roles = []\n",
        "\n",
        "for job in job_roles:\n",
        "  qualified = True\n",
        "\n",
        "  for skills in my_skills:\n",
        "    if skills not in job['skills']:\n",
        "      qualified = False\n",
        "      break\n",
        "\n",
        "  if qualified:\n",
        "    qualified_roles.append(job['role'])\n",
        "\n",
        "qualified_roles"
      ],
      "metadata": {
        "id": "nW5zPZMJxPXB"
      },
      "execution_count": null,
      "outputs": []
    },
    {
      "cell_type": "code",
      "source": [
        "#short method to find what job role you are suitable for. By matching the skills in my_skills with those in the skills key of the job_roles dict\n",
        "qualified_roles = []\n",
        "\n",
        "for job in job_roles:\n",
        "  #cheak if all required skills are in my skills\n",
        "  if all(skills in job['skills'] for skills in my_skills):\n",
        "\n",
        "    qualified_roles.append(job['role'])\n",
        "\n",
        "qualified_roles"
      ],
      "metadata": {
        "id": "gvwLzfs-y-nQ"
      },
      "execution_count": null,
      "outputs": []
    },
    {
      "cell_type": "markdown",
      "source": [
        "# *** Functions**\n",
        "\n"
      ],
      "metadata": {
        "id": "U0FIGUKAd7eL"
      }
    },
    {
      "cell_type": "markdown",
      "source": [
        "# **1. Build-In-Function**"
      ],
      "metadata": {
        "id": "zEg4iRUheCIw"
      }
    },
    {
      "cell_type": "code",
      "source": [
        "print('helo')"
      ],
      "metadata": {
        "id": "d53hQdsV0y3j"
      },
      "execution_count": null,
      "outputs": []
    },
    {
      "cell_type": "code",
      "source": [
        "len('hello')"
      ],
      "metadata": {
        "id": "GNLleGRiebav"
      },
      "execution_count": null,
      "outputs": []
    },
    {
      "cell_type": "code",
      "source": [
        "type({1,2,3})"
      ],
      "metadata": {
        "id": "rlOyCY77eeHD"
      },
      "execution_count": null,
      "outputs": []
    },
    {
      "cell_type": "code",
      "source": [
        "range(5)"
      ],
      "metadata": {
        "id": "vGosjuWceh7t"
      },
      "execution_count": null,
      "outputs": []
    },
    {
      "cell_type": "code",
      "source": [
        "help(str)"
      ],
      "metadata": {
        "id": "TXgUsCeAe6rN"
      },
      "execution_count": null,
      "outputs": []
    },
    {
      "cell_type": "code",
      "source": [
        "max(1,2,3)"
      ],
      "metadata": {
        "id": "j83_2W_be-Mc"
      },
      "execution_count": null,
      "outputs": []
    },
    {
      "cell_type": "code",
      "source": [
        "min(1,2,3)"
      ],
      "metadata": {
        "id": "mKY5b_YGfBAR"
      },
      "execution_count": null,
      "outputs": []
    },
    {
      "cell_type": "code",
      "source": [
        "pow(2,3)"
      ],
      "metadata": {
        "id": "N6J96sj4nNsE"
      },
      "execution_count": null,
      "outputs": []
    },
    {
      "cell_type": "code",
      "source": [
        "import math as m\n",
        "a = m.sqrt(4)\n",
        "a"
      ],
      "metadata": {
        "id": "LSTboUdKnZdx"
      },
      "execution_count": null,
      "outputs": []
    },
    {
      "cell_type": "code",
      "source": [
        "import math as m\n",
        "a = m.ceil(4.9)\n",
        "a\n"
      ],
      "metadata": {
        "id": "xPzIUHatntup"
      },
      "execution_count": null,
      "outputs": []
    },
    {
      "cell_type": "code",
      "source": [
        "import math as m\n",
        "a = m.floor(4.9)\n",
        "a"
      ],
      "metadata": {
        "id": "7WrAo1lSn0vo"
      },
      "execution_count": null,
      "outputs": []
    },
    {
      "cell_type": "markdown",
      "source": [
        "# **2. User-Defined-Function**"
      ],
      "metadata": {
        "id": "isylugiEnA1f"
      }
    },
    {
      "cell_type": "code",
      "source": [
        "salary_list = [100000,200000,150000,120000,80000,750000]\n",
        "\n",
        "def calculate_salary(base_salary,bonus_rate=.1):\n",
        "\n",
        "  return base_salary * (1 + bonus_rate)\n",
        "\n",
        "total_salary_list = [calculate_salary(salary) for salary in salary_list]\n",
        "\n",
        "total_salary_list\n"
      ],
      "metadata": {
        "id": "JgYEDkzffCPk"
      },
      "execution_count": null,
      "outputs": []
    },
    {
      "cell_type": "markdown",
      "source": [
        "# **Lambda**"
      ],
      "metadata": {
        "id": "29UIzGyLdZb-"
      }
    },
    {
      "cell_type": "code",
      "source": [
        "#With Lambda\n",
        "salary_list = [100000,200000,150000,120000,80000,750000]\n",
        "\n",
        "total_salary_list = [(lambda x: x*1.1)(salary) for salary in salary_list]\n",
        "\n",
        "total_salary_list"
      ],
      "metadata": {
        "id": "qNRAy_HqfWDL"
      },
      "execution_count": null,
      "outputs": []
    },
    {
      "cell_type": "code",
      "source": [
        "#simple\n",
        "salary_list = [100000,200000,150000,120000,80000,750000]\n",
        "\n",
        "total_salary_list = [salary *1.1 for salary in salary_list]\n",
        "\n",
        "total_salary_list"
      ],
      "metadata": {
        "id": "6c6-cnxIqcP_"
      },
      "execution_count": null,
      "outputs": []
    },
    {
      "cell_type": "markdown",
      "source": [
        "# **Data Filtering With Lambda**"
      ],
      "metadata": {
        "id": "g71TyK8tUKAE"
      }
    },
    {
      "cell_type": "code",
      "source": [
        "job_data = [\n",
        "    {\"job_title\": \"Data Scientist\",\"job_skills\": [\"Python\", \"Statistics\", \"Machine Learning\", \"Data Visualization\"],\"remote\": True},\n",
        "    {\"job_title\": \"Data Analyst\",\"job_skills\": [\"SQL\", \"Excel\", \"Data Cleaning\", \"Data Visualization\"],\"remote\": True},\n",
        "    {\"job_title\": \"Machine Learning Engineer\",\"job_skills\": [\"Python\", \"TensorFlow\", \"Machine Learning\", \"Deep Learning\"],\"remote\": False},\n",
        "    {\"job_title\": \"Data Engineer\",\"job_skills\": [\"SQL\", \"ETL\", \"Big Data\", \"Python\"],\"remote\": True},\n",
        "    {\"job_title\": \"Business Intelligence Analyst\",\"job_skills\": [\"Power BI\", \"SQL\", \"Data Modeling\", \"Dashboarding\"],\"remote\": False}\n",
        "]\n",
        "\n",
        "print(job_data)\n"
      ],
      "metadata": {
        "id": "B2qB6CARUIHq"
      },
      "execution_count": null,
      "outputs": []
    },
    {
      "cell_type": "code",
      "source": [
        "list(filter(lambda job: job['remote'] and 'Python' in job['job_skills'], job_data))"
      ],
      "metadata": {
        "id": "evTXNVplXqO7"
      },
      "execution_count": null,
      "outputs": []
    },
    {
      "cell_type": "markdown",
      "source": [
        "# **Module**"
      ],
      "metadata": {
        "id": "rpKvp7EWdRZo"
      }
    },
    {
      "cell_type": "code",
      "source": [
        "from my_module import *"
      ],
      "metadata": {
        "id": "54EencIjdjp_"
      },
      "execution_count": null,
      "outputs": []
    },
    {
      "cell_type": "code",
      "source": [
        "my_module.skill('python')"
      ],
      "metadata": {
        "id": "8K8U7-WBd_wN",
        "colab": {
          "base_uri": "https://localhost:8080/",
          "height": 36
        },
        "outputId": "cb41af04-6d2e-4f97-deef-bd3f1c260355"
      },
      "execution_count": null,
      "outputs": [
        {
          "output_type": "execute_result",
          "data": {
            "text/plain": [
              "'python is my favourate skill!'"
            ],
            "application/vnd.google.colaboratory.intrinsic+json": {
              "type": "string"
            }
          },
          "metadata": {},
          "execution_count": 13
        }
      ]
    },
    {
      "cell_type": "code",
      "source": [
        "import job_analyzer as ja\n",
        "\n",
        "ja.calcu_salary(100000)"
      ],
      "metadata": {
        "colab": {
          "base_uri": "https://localhost:8080/"
        },
        "id": "LI__AN2HX8Hv",
        "outputId": "ecbcf729-199f-4bb3-f1fe-402dd4f4f879"
      },
      "execution_count": null,
      "outputs": [
        {
          "output_type": "execute_result",
          "data": {
            "text/plain": [
              "110000.00000000001"
            ]
          },
          "metadata": {},
          "execution_count": 14
        }
      ]
    },
    {
      "cell_type": "code",
      "source": [
        "from job_analyzer import *\n",
        "\n",
        "calcu_salary(100000)\n",
        "\n",
        "calcu_bonus(110000,100000)"
      ],
      "metadata": {
        "colab": {
          "base_uri": "https://localhost:8080/"
        },
        "id": "ho16ArKcZWE7",
        "outputId": "4658b2aa-eab7-4e23-d1cc-530877e03f93"
      },
      "execution_count": null,
      "outputs": [
        {
          "output_type": "execute_result",
          "data": {
            "text/plain": [
              "0.1"
            ]
          },
          "metadata": {},
          "execution_count": 1
        }
      ]
    },
    {
      "cell_type": "code",
      "source": [
        "help(calcu_salary)"
      ],
      "metadata": {
        "colab": {
          "base_uri": "https://localhost:8080/"
        },
        "id": "DnVxQywTd-Ek",
        "outputId": "2d326d6f-7f59-451a-aafd-8f0c871370ff"
      },
      "execution_count": null,
      "outputs": [
        {
          "output_type": "stream",
          "name": "stdout",
          "text": [
            "Help on function calcu_salary in module job_analyzer:\n",
            "\n",
            "calcu_salary(base_salary, bonus_rate=0.1)\n",
            "    Calculate the total salary based on the bonus salary and bonus rate.\n",
            "    \n",
            "    Args:\n",
            "    base_salary (float): The Base Salary\n",
            "    bonus_rate (float): The Bonus Rate. By default it's .1.\n",
            "    \n",
            "    Returns:\n",
            "    total_salary (float): The Total Salary\n",
            "\n"
          ]
        }
      ]
    },
    {
      "cell_type": "code",
      "source": [
        "help(calcu_bonus)"
      ],
      "metadata": {
        "colab": {
          "base_uri": "https://localhost:8080/"
        },
        "id": "eiw5DSRveDxf",
        "outputId": "af66ae4c-c427-4f2b-d234-f5184311f990"
      },
      "execution_count": null,
      "outputs": [
        {
          "output_type": "stream",
          "name": "stdout",
          "text": [
            "Help on function calcu_bonus in module job_analyzer:\n",
            "\n",
            "calcu_bonus(total_salary, base_salary)\n",
            "    Calculates the Bonus rate based on the total salary and base salary.\n",
            "    \n",
            "    Args:\n",
            "    total_salary (float): The Total Salary\n",
            "    basle_salary (float): The Base Salary\n",
            "    \n",
            "    Returns:\n",
            "    bonus_rate(float): The Bonus Rate\n",
            "\n"
          ]
        }
      ]
    },
    {
      "cell_type": "markdown",
      "source": [
        "# **Statistics Module**"
      ],
      "metadata": {
        "id": "neRcDHe_eyem"
      }
    },
    {
      "cell_type": "code",
      "source": [
        "lst = [98000,101000,102000,99000,97000]"
      ],
      "metadata": {
        "id": "sqvS_kLoexVt"
      },
      "execution_count": null,
      "outputs": []
    },
    {
      "cell_type": "code",
      "source": [
        "import statistics as st\n",
        "\n",
        "st.mean(lst)"
      ],
      "metadata": {
        "colab": {
          "base_uri": "https://localhost:8080/"
        },
        "id": "ArT2FDK0eKEM",
        "outputId": "eb0851f5-bc90-4a65-9fae-c0ec0b21c270"
      },
      "execution_count": null,
      "outputs": [
        {
          "output_type": "execute_result",
          "data": {
            "text/plain": [
              "99400"
            ]
          },
          "metadata": {},
          "execution_count": 6
        }
      ]
    },
    {
      "cell_type": "code",
      "source": [
        "from statistics import mean,median,mode\n",
        "\n",
        "mean(lst)\n"
      ],
      "metadata": {
        "colab": {
          "base_uri": "https://localhost:8080/"
        },
        "id": "w5vb5F4hfH5K",
        "outputId": "08e3f103-aea1-451b-bad0-333d74fda3a9"
      },
      "execution_count": null,
      "outputs": [
        {
          "output_type": "execute_result",
          "data": {
            "text/plain": [
              "98000"
            ]
          },
          "metadata": {},
          "execution_count": 8
        }
      ]
    },
    {
      "cell_type": "code",
      "source": [
        "median (lst)\n"
      ],
      "metadata": {
        "colab": {
          "base_uri": "https://localhost:8080/"
        },
        "id": "G8fEQxm0fUZ8",
        "outputId": "77785c78-9594-48d7-8c0b-91ef07e959af"
      },
      "execution_count": null,
      "outputs": [
        {
          "output_type": "execute_result",
          "data": {
            "text/plain": [
              "99000"
            ]
          },
          "metadata": {},
          "execution_count": 9
        }
      ]
    },
    {
      "cell_type": "code",
      "source": [
        "mode(lst)"
      ],
      "metadata": {
        "colab": {
          "base_uri": "https://localhost:8080/"
        },
        "id": "qOsXivgVfgsp",
        "outputId": "5d35a7ec-98b3-4ecc-bf3a-269c4d418e8f"
      },
      "execution_count": null,
      "outputs": [
        {
          "output_type": "execute_result",
          "data": {
            "text/plain": [
              "98000"
            ]
          },
          "metadata": {},
          "execution_count": 10
        }
      ]
    },
    {
      "cell_type": "code",
      "source": [],
      "metadata": {
        "colab": {
          "base_uri": "https://localhost:8080/"
        },
        "id": "B5-mM0cefiQ5",
        "outputId": "78590b84-5213-4b20-d73f-e2a896b757dc"
      },
      "execution_count": null,
      "outputs": [
        {
          "output_type": "execute_result",
          "data": {
            "text/plain": [
              "99400"
            ]
          },
          "metadata": {},
          "execution_count": 12
        }
      ]
    },
    {
      "cell_type": "markdown",
      "source": [
        "# **Data Cleaning using Library**"
      ],
      "metadata": {
        "id": "XOSSwByFTcrN"
      }
    },
    {
      "cell_type": "code",
      "source": [
        "data_science_jobs = [\n",
        "    {'job_title': 'Data Scientist', 'job_skills': \"['Python', 'SQL', 'Machine Learning']\", 'job_date': '2023-05-12'},\n",
        "    {'job_title': 'Machine Learning Engineer', 'job_skills': \"['Python', 'TensorFlow', 'Deep Learning']\", 'job_date': '2023-05-15'},\n",
        "    {'job_title': 'Data Analyst', 'job_skills': \"['SQL', 'R', 'Tableau']\", 'job_date': '2023-05-10'},\n",
        "    {'job_title': 'Business Intelligence Developer', 'job_skills': \"['SQL', 'PowerBI', 'Data Warehousing']\", 'job_date': '2023-05-08'},\n",
        "    {'job_title': 'Data Engineer', 'job_skills': \"['Python', 'Spark', 'Hadoop']\", 'job_date': '2023-05-18'},\n",
        "    {'job_title': 'AI Specialist', 'job_skills': \"['Python', 'PyTorch', 'AI Ethics']\", 'job_date': '2023-05-20'}\n",
        "]"
      ],
      "metadata": {
        "id": "diB_rBTSfmNH"
      },
      "execution_count": null,
      "outputs": []
    },
    {
      "cell_type": "code",
      "source": [
        "#datetime\n",
        "from datetime import datetime as da"
      ],
      "metadata": {
        "id": "ksx-dZ-bTlkP"
      },
      "execution_count": null,
      "outputs": []
    },
    {
      "cell_type": "code",
      "source": [
        "da.now()"
      ],
      "metadata": {
        "colab": {
          "base_uri": "https://localhost:8080/",
          "height": 141
        },
        "id": "bjlgnvRST9Cv",
        "outputId": "a3f92fa6-65cc-4d0f-e5ef-0a89643e4310"
      },
      "execution_count": null,
      "outputs": [
        {
          "output_type": "error",
          "ename": "NameError",
          "evalue": "name 'da' is not defined",
          "traceback": [
            "\u001b[0;31m---------------------------------------------------------------------------\u001b[0m",
            "\u001b[0;31mNameError\u001b[0m                                 Traceback (most recent call last)",
            "\u001b[0;32m<ipython-input-1-005b58da7731>\u001b[0m in \u001b[0;36m<cell line: 1>\u001b[0;34m()\u001b[0m\n\u001b[0;32m----> 1\u001b[0;31m \u001b[0mda\u001b[0m\u001b[0;34m.\u001b[0m\u001b[0mnow\u001b[0m\u001b[0;34m(\u001b[0m\u001b[0;34m)\u001b[0m\u001b[0;34m\u001b[0m\u001b[0;34m\u001b[0m\u001b[0m\n\u001b[0m",
            "\u001b[0;31mNameError\u001b[0m: name 'da' is not defined"
          ]
        }
      ]
    },
    {
      "cell_type": "code",
      "source": [
        "#cheaking the data type of the job_date in data_science_jobs.\n",
        "type(data_science_jobs[0]['job_date'])\n",
        "\n",
        "#it should be datetime but its string"
      ],
      "metadata": {
        "colab": {
          "base_uri": "https://localhost:8080/"
        },
        "id": "yAiyO0HIUB6J",
        "outputId": "65269a7f-ddc3-4c9b-f36c-019c1d18f7f6"
      },
      "execution_count": null,
      "outputs": [
        {
          "output_type": "execute_result",
          "data": {
            "text/plain": [
              "str"
            ]
          },
          "metadata": {},
          "execution_count": 3
        }
      ]
    },
    {
      "cell_type": "code",
      "source": [
        "# convert one job_date to data type datetime\n",
        "test_date = data_science_jobs[0]['job_date']\n",
        "\n",
        "print(da.strptime(test_date, '%Y-%m-%d'))"
      ],
      "metadata": {
        "colab": {
          "base_uri": "https://localhost:8080/"
        },
        "id": "gyiSNsBIUptu",
        "outputId": "e57bfd2e-5230-4289-8068-8fb2f41a682d"
      },
      "execution_count": null,
      "outputs": [
        {
          "output_type": "stream",
          "name": "stdout",
          "text": [
            "2023-05-12 00:00:00\n"
          ]
        }
      ]
    },
    {
      "cell_type": "code",
      "source": [
        "#looping it for all\n",
        "for job in data_science_jobs:\n",
        "  job['job_date'] = da.strptime(job['job_date'], '%Y-%m-%d')"
      ],
      "metadata": {
        "id": "p5CNqdL7VRWH"
      },
      "execution_count": null,
      "outputs": []
    },
    {
      "cell_type": "code",
      "source": [
        "# double cheaking\n",
        "type(data_science_jobs[0]['job_date'])"
      ],
      "metadata": {
        "colab": {
          "base_uri": "https://localhost:8080/"
        },
        "id": "18HmzfbYVYbf",
        "outputId": "3a8007b5-4930-4f8c-c694-10ebb8659975"
      },
      "execution_count": null,
      "outputs": [
        {
          "output_type": "execute_result",
          "data": {
            "text/plain": [
              "datetime.datetime"
            ]
          },
          "metadata": {},
          "execution_count": 9
        }
      ]
    },
    {
      "cell_type": "code",
      "source": [
        "# It should be a list but its a str\n",
        "type(data_science_jobs[0]['job_skills'])"
      ],
      "metadata": {
        "colab": {
          "base_uri": "https://localhost:8080/"
        },
        "id": "O0r0GIHQafBc",
        "outputId": "242fb77d-dab1-4b35-e084-e309ffe76d9c"
      },
      "execution_count": null,
      "outputs": [
        {
          "output_type": "execute_result",
          "data": {
            "text/plain": [
              "str"
            ]
          },
          "metadata": {},
          "execution_count": 10
        }
      ]
    },
    {
      "cell_type": "code",
      "source": [
        "# converting job_skills from str to data type list\n",
        "import ast\n",
        "\n",
        "for job in data_science_jobs:\n",
        "  job['job_skills'] = ast.literal_eval(job['job_skills'])"
      ],
      "metadata": {
        "id": "xPLIy1VfWyRu"
      },
      "execution_count": null,
      "outputs": []
    },
    {
      "cell_type": "code",
      "source": [
        "#recheak\n",
        "type(data_science_jobs[0]['job_skills'])"
      ],
      "metadata": {
        "colab": {
          "base_uri": "https://localhost:8080/"
        },
        "id": "3fqaee3Ra2wl",
        "outputId": "3e846f64-87b5-4fe8-907f-b6feebdaa344"
      },
      "execution_count": null,
      "outputs": [
        {
          "output_type": "execute_result",
          "data": {
            "text/plain": [
              "list"
            ]
          },
          "metadata": {},
          "execution_count": 12
        }
      ]
    },
    {
      "cell_type": "code",
      "source": [],
      "metadata": {
        "id": "OmirzzHVa8VJ"
      },
      "execution_count": null,
      "outputs": []
    }
  ]
}